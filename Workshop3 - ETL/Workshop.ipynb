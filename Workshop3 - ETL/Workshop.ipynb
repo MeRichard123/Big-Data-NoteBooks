{
 "cells": [
  {
   "cell_type": "code",
   "execution_count": 1,
   "metadata": {},
   "outputs": [],
   "source": [
    "import findspark\n",
    "import streamlit\n",
    "findspark.init()"
   ]
  },
  {
   "cell_type": "code",
   "execution_count": 1,
   "metadata": {},
   "outputs": [
    {
     "name": "stderr",
     "output_type": "stream",
     "text": [
      "/usr/local/lib/python3.12/site-packages/pyspark/bin/load-spark-env.sh: line 68: ps: command not found\n",
      "Setting default log level to \"WARN\".\n",
      "To adjust logging level use sc.setLogLevel(newLevel). For SparkR, use setLogLevel(newLevel).\n",
      "24/10/11 08:10:01 WARN NativeCodeLoader: Unable to load native-hadoop library for your platform... using builtin-java classes where applicable\n"
     ]
    },
    {
     "name": "stdout",
     "output_type": "stream",
     "text": [
      "+-----+\n",
      "|hello|\n",
      "+-----+\n",
      "|spark|\n",
      "+-----+\n",
      "\n"
     ]
    }
   ],
   "source": [
    "import pyspark\n",
    "\n",
    "from pyspark.sql import SparkSession\n",
    "spark = SparkSession.builder.getOrCreate()\n",
    "df = spark.sql(\"select 'spark' as hello\")\n",
    "df.show()"
   ]
  },
  {
   "cell_type": "code",
   "execution_count": 2,
   "metadata": {},
   "outputs": [],
   "source": [
    "import pandas as pd\n",
    "import matplotlib.pyplot as plt\n",
    "import seaborn as sns"
   ]
  },
  {
   "cell_type": "code",
   "execution_count": 11,
   "metadata": {},
   "outputs": [
    {
     "name": "stdout",
     "output_type": "stream",
     "text": [
      "+------+--------------+--------------------+------------+--------------------+----------+-------------+-------------+\n",
      "|   _c0|           _c1|                 _c2|         _c3|                 _c4|       _c5|          _c6|          _c7|\n",
      "+------+--------------+--------------------+------------+--------------------+----------+-------------+-------------+\n",
      "|gender|race/ethnicity|parental level of...|       lunch|test preparation ...|math score|reading score|writing score|\n",
      "|female|       group B|   bachelor's degree|    standard|                none|        72|           72|           74|\n",
      "|female|       group C|        some college|    standard|           completed|        69|           90|           88|\n",
      "|female|       group B|     master's degree|    standard|                none|        90|           95|           93|\n",
      "|  male|       group A|  associate's degree|free/reduced|                none|        47|           57|           44|\n",
      "|  male|       group C|        some college|    standard|                none|        76|           78|           75|\n",
      "|female|       group B|  associate's degree|    standard|                none|        71|           83|           78|\n",
      "|female|       group B|        some college|    standard|           completed|        88|           95|           92|\n",
      "|  male|       group B|        some college|free/reduced|                none|        40|           43|           39|\n",
      "|  male|       group D|         high school|free/reduced|           completed|        64|           64|           67|\n",
      "|female|       group B|         high school|free/reduced|                none|        38|           60|           50|\n",
      "|  male|       group C|  associate's degree|    standard|                none|        58|           54|           52|\n",
      "|  male|       group D|  associate's degree|    standard|                NULL|        40|           52|           43|\n",
      "|female|       group B|         high school|    standard|                none|        65|           81|           73|\n",
      "|  male|       group A|        some college|    standard|           completed|        78|           72|           70|\n",
      "|female|       group A|     master's degree|    standard|                none|        50|           53|           58|\n",
      "|female|       group C|    some high school|    standard|                none|      NULL|           75|           78|\n",
      "|  male|       group C|         high school|    standard|                none|        88|           89|           86|\n",
      "|female|       group B|    some high school|free/reduced|                none|        18|           32|           28|\n",
      "|  male|       group C|     master's degree|free/reduced|           completed|        46|           42|           46|\n",
      "+------+--------------+--------------------+------------+--------------------+----------+-------------+-------------+\n",
      "only showing top 20 rows\n",
      "\n"
     ]
    }
   ],
   "source": [
    "df = spark.read.csv(\"BrokenDataset.csv\")\n",
    "df.show()"
   ]
  },
  {
   "cell_type": "code",
   "execution_count": 12,
   "metadata": {},
   "outputs": [
    {
     "name": "stdout",
     "output_type": "stream",
     "text": [
      "+------+--------------+---------------------------+------------+-----------------------+----------+-------------+-------------+\n",
      "|gender|race/ethnicity|parental_level_of_education|       lunch|test_preparation_course|math_score|reading_score|writing_score|\n",
      "+------+--------------+---------------------------+------------+-----------------------+----------+-------------+-------------+\n",
      "|gender|race/ethnicity|       parental level of...|       lunch|   test preparation ...|math score|reading score|writing score|\n",
      "|female|       group B|          bachelor's degree|    standard|                   none|        72|           72|           74|\n",
      "|female|       group C|               some college|    standard|              completed|        69|           90|           88|\n",
      "|female|       group B|            master's degree|    standard|                   none|        90|           95|           93|\n",
      "|  male|       group A|         associate's degree|free/reduced|                   none|        47|           57|           44|\n",
      "|  male|       group C|               some college|    standard|                   none|        76|           78|           75|\n",
      "|female|       group B|         associate's degree|    standard|                   none|        71|           83|           78|\n",
      "|female|       group B|               some college|    standard|              completed|        88|           95|           92|\n",
      "|  male|       group B|               some college|free/reduced|                   none|        40|           43|           39|\n",
      "|  male|       group D|                high school|free/reduced|              completed|        64|           64|           67|\n",
      "|female|       group B|                high school|free/reduced|                   none|        38|           60|           50|\n",
      "|  male|       group C|         associate's degree|    standard|                   none|        58|           54|           52|\n",
      "|  male|       group D|         associate's degree|    standard|                   NULL|        40|           52|           43|\n",
      "|female|       group B|                high school|    standard|                   none|        65|           81|           73|\n",
      "|  male|       group A|               some college|    standard|              completed|        78|           72|           70|\n",
      "|female|       group A|            master's degree|    standard|                   none|        50|           53|           58|\n",
      "|female|       group C|           some high school|    standard|                   none|      NULL|           75|           78|\n",
      "|  male|       group C|                high school|    standard|                   none|        88|           89|           86|\n",
      "|female|       group B|           some high school|free/reduced|                   none|        18|           32|           28|\n",
      "|  male|       group C|            master's degree|free/reduced|              completed|        46|           42|           46|\n",
      "+------+--------------+---------------------------+------------+-----------------------+----------+-------------+-------------+\n",
      "only showing top 20 rows\n",
      "\n"
     ]
    }
   ],
   "source": [
    "from functools import reduce\n",
    "\n",
    "oldColumns = df.schema.names\n",
    "newColumns = ['gender', 'race/ethnicity', 'parental_level_of_education', 'lunch', 'test_preparation_course', 'math_score', 'reading_score', 'writing_score']\n",
    "df = reduce(lambda data, idx: data.withColumnRenamed(oldColumns[idx], newColumns[idx]), range(len(oldColumns)), df)\n",
    "df.show()"
   ]
  },
  {
   "cell_type": "markdown",
   "metadata": {},
   "source": [
    "# ETL"
   ]
  },
  {
   "cell_type": "code",
   "execution_count": 19,
   "metadata": {},
   "outputs": [
    {
     "name": "stdout",
     "output_type": "stream",
     "text": [
      "There are 15 null values in gender\n",
      "There are 0 null values in race/ethnicity\n",
      "There are 9 null values in parental_level_of_education\n",
      "There are 8 null values in lunch\n",
      "There are 11 null values in test_preparation_course\n",
      "There are 1 null values in math_score\n",
      "There are 6 null values in reading_score\n",
      "There are 1 null values in writing_score\n"
     ]
    }
   ],
   "source": [
    "for col in df.columns:\n",
    "    count = df.where(df[col].isNull()).count()\n",
    "    print(f\"There are {count} null values in {col}\")\n"
   ]
  },
  {
   "cell_type": "code",
   "execution_count": 21,
   "metadata": {},
   "outputs": [
    {
     "data": {
      "text/plain": [
       "1001"
      ]
     },
     "execution_count": 21,
     "metadata": {},
     "output_type": "execute_result"
    }
   ],
   "source": [
    "df.count()"
   ]
  },
  {
   "cell_type": "markdown",
   "metadata": {},
   "source": [
    "## remove missing rows"
   ]
  },
  {
   "cell_type": "code",
   "execution_count": 27,
   "metadata": {},
   "outputs": [
    {
     "name": "stdout",
     "output_type": "stream",
     "text": [
      "Removed 40 Rows\n"
     ]
    }
   ],
   "source": [
    "df = df.dropna()\n",
    "print(f\"Removed {1001 - df.count()} Rows\")"
   ]
  },
  {
   "cell_type": "markdown",
   "metadata": {},
   "source": [
    "### Drop Duplicate Data"
   ]
  },
  {
   "cell_type": "code",
   "execution_count": 28,
   "metadata": {},
   "outputs": [
    {
     "name": "stdout",
     "output_type": "stream",
     "text": [
      "Removed 0 Rows\n"
     ]
    }
   ],
   "source": [
    "oldCount = df.count()\n",
    "df = df.dropDuplicates()\n",
    "print(f\"Removed {oldCount - df.count()} Rows\")"
   ]
  },
  {
   "cell_type": "code",
   "execution_count": 29,
   "metadata": {},
   "outputs": [
    {
     "name": "stdout",
     "output_type": "stream",
     "text": [
      "+------+--------------+---------------------------+------------+-----------------------+----------+-------------+-------------+\n",
      "|gender|race/ethnicity|parental_level_of_education|       lunch|test_preparation_course|math_score|reading_score|writing_score|\n",
      "+------+--------------+---------------------------+------------+-----------------------+----------+-------------+-------------+\n",
      "|  male|       group B|               some college|free/reduced|                   none|        40|           43|           39|\n",
      "|  male|       group B|           some high school|    standard|              completed|        61|           56|           56|\n",
      "|female|       group C|           some high school|free/reduced|                   none|        65|           86|           80|\n",
      "|female|       group C|         associate's degree|free/reduced|                   none|        60|           75|           74|\n",
      "|female|       group C|               some college|    standard|                   none|        54|           48|           52|\n",
      "|  male|       group D|                high school|    standard|                   none|        89|           87|           79|\n",
      "|female|       group C|                high school|    standard|              completed|        58|           75|           77|\n",
      "|female|       group C|           some high school|free/reduced|              completed|        71|           84|           87|\n",
      "|  male|       group E|                high school|    standard|              completed|        87|           91|           81|\n",
      "|  male|       group C|         associate's degree|    standard|                   none|        84|           80|           80|\n",
      "|female|       group C|               some college|free/reduced|              completed|        45|           73|           70|\n",
      "|female|       group C|                high school|free/reduced|              completed|        50|           66|           64|\n",
      "|female|       group B|               some college|free/reduced|              completed|        53|           66|           73|\n",
      "|female|       group B|                high school|free/reduced|                   none|        71|           87|           82|\n",
      "|  male|       group C|          bachelor's degree|    standard|                   none|        83|           78|           73|\n",
      "|female|       group C|          bachelor's degree|    standard|              completed|        59|           64|           75|\n",
      "|female|       group D|               some college|    standard|              completed|        82|           97|           96|\n",
      "|female|       group D|         associate's degree|free/reduced|                   none|        46|           56|           57|\n",
      "|female|       group C|            master's degree|    standard|              completed|        54|           64|           67|\n",
      "|  male|       group B|                high school|    standard|                   none|        47|           46|           42|\n",
      "+------+--------------+---------------------------+------------+-----------------------+----------+-------------+-------------+\n",
      "only showing top 20 rows\n",
      "\n"
     ]
    }
   ],
   "source": [
    "df.show()"
   ]
  },
  {
   "cell_type": "markdown",
   "metadata": {},
   "source": [
    "### dropping columns"
   ]
  },
  {
   "cell_type": "code",
   "execution_count": 44,
   "metadata": {},
   "outputs": [],
   "source": [
    "df = df.where(df.gender != 'gender')"
   ]
  },
  {
   "cell_type": "code",
   "execution_count": 30,
   "metadata": {},
   "outputs": [
    {
     "name": "stdout",
     "output_type": "stream",
     "text": [
      "+------+--------------+---------------------------+------------+----------+-------------+-------------+\n",
      "|gender|race/ethnicity|parental_level_of_education|       lunch|math_score|reading_score|writing_score|\n",
      "+------+--------------+---------------------------+------------+----------+-------------+-------------+\n",
      "|  male|       group B|               some college|free/reduced|        40|           43|           39|\n",
      "|  male|       group B|           some high school|    standard|        61|           56|           56|\n",
      "|female|       group C|           some high school|free/reduced|        65|           86|           80|\n",
      "|female|       group C|         associate's degree|free/reduced|        60|           75|           74|\n",
      "|female|       group C|               some college|    standard|        54|           48|           52|\n",
      "|  male|       group D|                high school|    standard|        89|           87|           79|\n",
      "|female|       group C|                high school|    standard|        58|           75|           77|\n",
      "|female|       group C|           some high school|free/reduced|        71|           84|           87|\n",
      "|  male|       group E|                high school|    standard|        87|           91|           81|\n",
      "|  male|       group C|         associate's degree|    standard|        84|           80|           80|\n",
      "|female|       group C|               some college|free/reduced|        45|           73|           70|\n",
      "|female|       group C|                high school|free/reduced|        50|           66|           64|\n",
      "|female|       group B|               some college|free/reduced|        53|           66|           73|\n",
      "|female|       group B|                high school|free/reduced|        71|           87|           82|\n",
      "|  male|       group C|          bachelor's degree|    standard|        83|           78|           73|\n",
      "|female|       group C|          bachelor's degree|    standard|        59|           64|           75|\n",
      "|female|       group D|               some college|    standard|        82|           97|           96|\n",
      "|female|       group D|         associate's degree|free/reduced|        46|           56|           57|\n",
      "|female|       group C|            master's degree|    standard|        54|           64|           67|\n",
      "|  male|       group B|                high school|    standard|        47|           46|           42|\n",
      "+------+--------------+---------------------------+------------+----------+-------------+-------------+\n",
      "only showing top 20 rows\n",
      "\n"
     ]
    }
   ],
   "source": [
    "cols = ['test_preparation_course']\n",
    "df = df.drop(*cols)\n",
    "df.show()"
   ]
  },
  {
   "cell_type": "markdown",
   "metadata": {},
   "source": [
    "## Computations on Column Data"
   ]
  },
  {
   "cell_type": "code",
   "execution_count": 35,
   "metadata": {},
   "outputs": [
    {
     "name": "stdout",
     "output_type": "stream",
     "text": [
      "+------+--------------+---------------------------+------------+----------+-------------+-------------+------------------+\n",
      "|gender|race/ethnicity|parental_level_of_education|       lunch|math_score|reading_score|writing_score|         avg_score|\n",
      "+------+--------------+---------------------------+------------+----------+-------------+-------------+------------------+\n",
      "|  male|       group B|               some college|free/reduced|        40|           43|           39|40.666666666666664|\n",
      "|  male|       group B|           some high school|    standard|        61|           56|           56|57.666666666666664|\n",
      "|female|       group C|           some high school|free/reduced|        65|           86|           80|              77.0|\n",
      "|female|       group C|         associate's degree|free/reduced|        60|           75|           74| 69.66666666666667|\n",
      "|female|       group C|               some college|    standard|        54|           48|           52|51.333333333333336|\n",
      "|  male|       group D|                high school|    standard|        89|           87|           79|              85.0|\n",
      "|female|       group C|                high school|    standard|        58|           75|           77|              70.0|\n",
      "|female|       group C|           some high school|free/reduced|        71|           84|           87| 80.66666666666667|\n",
      "|  male|       group E|                high school|    standard|        87|           91|           81| 86.33333333333333|\n",
      "|  male|       group C|         associate's degree|    standard|        84|           80|           80| 81.33333333333333|\n",
      "|female|       group C|               some college|free/reduced|        45|           73|           70|62.666666666666664|\n",
      "|female|       group C|                high school|free/reduced|        50|           66|           64|              60.0|\n",
      "|female|       group B|               some college|free/reduced|        53|           66|           73|              64.0|\n",
      "|female|       group B|                high school|free/reduced|        71|           87|           82|              80.0|\n",
      "|  male|       group C|          bachelor's degree|    standard|        83|           78|           73|              78.0|\n",
      "|female|       group C|          bachelor's degree|    standard|        59|           64|           75|              66.0|\n",
      "|female|       group D|               some college|    standard|        82|           97|           96| 91.66666666666667|\n",
      "|female|       group D|         associate's degree|free/reduced|        46|           56|           57|              53.0|\n",
      "|female|       group C|            master's degree|    standard|        54|           64|           67|61.666666666666664|\n",
      "|  male|       group B|                high school|    standard|        47|           46|           42|              45.0|\n",
      "+------+--------------+---------------------------+------------+----------+-------------+-------------+------------------+\n",
      "only showing top 20 rows\n",
      "\n"
     ]
    }
   ],
   "source": [
    "from math import floor\n",
    "df.withColumn(\"avg_score\", (df.math_score + df.reading_score + df.writing_score)/3)\\\n",
    "  .show()"
   ]
  },
  {
   "cell_type": "markdown",
   "metadata": {},
   "source": [
    "## Count Categories"
   ]
  },
  {
   "cell_type": "code",
   "execution_count": 53,
   "metadata": {},
   "outputs": [
    {
     "name": "stdout",
     "output_type": "stream",
     "text": [
      "gender Categories: 2\n",
      "race/ethnicity Categories: 5\n",
      "parental_level_of_education Categories: 8\n",
      "lunch Categories: 2\n",
      "+------+-----+\n",
      "|gender|count|\n",
      "+------+-----+\n",
      "|female|  499|\n",
      "|  male|  460|\n",
      "+------+-----+\n",
      "\n"
     ]
    }
   ],
   "source": [
    "df = df.filter(df.gender.like(\"%male\"))\n",
    "\n",
    "for col in ['gender','race/ethnicity','parental_level_of_education','lunch']:\n",
    "    print(f\"{col} Categories: {df.groupBy(col).count().count()}\")\n",
    "\n",
    "\n",
    "df.groupBy('gender').count().show()"
   ]
  },
  {
   "cell_type": "markdown",
   "metadata": {},
   "source": [
    "## Encoding Values"
   ]
  },
  {
   "cell_type": "code",
   "execution_count": 56,
   "metadata": {},
   "outputs": [
    {
     "name": "stdout",
     "output_type": "stream",
     "text": [
      "+------+--------------+---------------------------+------------+----------+-------------+-------------+--------------+----------------------+-----------------------------------+-------------+\n",
      "|gender|race/ethnicity|parental_level_of_education|       lunch|math_score|reading_score|writing_score|gender_encoded|race/ethnicity_encoded|parental_level_of_education_encoded|lunch_encoded|\n",
      "+------+--------------+---------------------------+------------+----------+-------------+-------------+--------------+----------------------+-----------------------------------+-------------+\n",
      "|  male|       group B|               some college|free/reduced|        40|           43|           39|           1.0|                   2.0|                                0.0|          1.0|\n",
      "|  male|       group B|           some high school|    standard|        61|           56|           56|           1.0|                   2.0|                                3.0|          0.0|\n",
      "|female|       group C|           some high school|free/reduced|        65|           86|           80|           0.0|                   0.0|                                3.0|          1.0|\n",
      "|female|       group C|         associate's degree|free/reduced|        60|           75|           74|           0.0|                   0.0|                                1.0|          1.0|\n",
      "|female|       group C|               some college|    standard|        54|           48|           52|           0.0|                   0.0|                                0.0|          0.0|\n",
      "|  male|       group D|                high school|    standard|        89|           87|           79|           1.0|                   1.0|                                2.0|          0.0|\n",
      "|female|       group C|                high school|    standard|        58|           75|           77|           0.0|                   0.0|                                2.0|          0.0|\n",
      "|female|       group C|           some high school|free/reduced|        71|           84|           87|           0.0|                   0.0|                                3.0|          1.0|\n",
      "|  male|       group E|                high school|    standard|        87|           91|           81|           1.0|                   3.0|                                2.0|          0.0|\n",
      "|  male|       group C|         associate's degree|    standard|        84|           80|           80|           1.0|                   0.0|                                1.0|          0.0|\n",
      "|female|       group C|               some college|free/reduced|        45|           73|           70|           0.0|                   0.0|                                0.0|          1.0|\n",
      "|female|       group C|                high school|free/reduced|        50|           66|           64|           0.0|                   0.0|                                2.0|          1.0|\n",
      "|female|       group B|               some college|free/reduced|        53|           66|           73|           0.0|                   2.0|                                0.0|          1.0|\n",
      "|female|       group B|                high school|free/reduced|        71|           87|           82|           0.0|                   2.0|                                2.0|          1.0|\n",
      "|  male|       group C|          bachelor's degree|    standard|        83|           78|           73|           1.0|                   0.0|                                4.0|          0.0|\n",
      "|female|       group C|          bachelor's degree|    standard|        59|           64|           75|           0.0|                   0.0|                                4.0|          0.0|\n",
      "|female|       group D|               some college|    standard|        82|           97|           96|           0.0|                   1.0|                                0.0|          0.0|\n",
      "|female|       group D|         associate's degree|free/reduced|        46|           56|           57|           0.0|                   1.0|                                1.0|          1.0|\n",
      "|female|       group C|            master's degree|    standard|        54|           64|           67|           0.0|                   0.0|                                5.0|          0.0|\n",
      "|  male|       group B|                high school|    standard|        47|           46|           42|           1.0|                   2.0|                                2.0|          0.0|\n",
      "+------+--------------+---------------------------+------------+----------+-------------+-------------+--------------+----------------------+-----------------------------------+-------------+\n",
      "only showing top 20 rows\n",
      "\n"
     ]
    }
   ],
   "source": [
    "from pyspark.ml.feature import StringIndexer\n",
    "\n",
    "textCols = ['gender','race/ethnicity','parental_level_of_education','lunch']\n",
    "\n",
    "indexer = StringIndexer(inputCols=textCols,\n",
    "                        outputCols=list(map(lambda text: f\"{text}_encoded\", textCols))\n",
    "                        )\n",
    "encoded = indexer.fit(df).transform(df)\n",
    "encoded.show()"
   ]
  },
  {
   "cell_type": "code",
   "execution_count": null,
   "metadata": {},
   "outputs": [],
   "source": [
    "# exprs = [col(column).alias(column.replace(' ', '_')) for column in df.columns]\n",
    "# df.select(*exprs).show()"
   ]
  },
  {
   "cell_type": "code",
   "execution_count": 57,
   "metadata": {},
   "outputs": [
    {
     "name": "stdout",
     "output_type": "stream",
     "text": [
      "+------+--------------+---------------------------+------------+----------+-------------+-------------+----------+\n",
      "|gender|race/ethnicity|parental_level_of_education|       lunch|math_score|reading_score|writing_score|race group|\n",
      "+------+--------------+---------------------------+------------+----------+-------------+-------------+----------+\n",
      "|  male|       group B|               some college|free/reduced|        40|           43|           39|         B|\n",
      "|  male|       group B|           some high school|    standard|        61|           56|           56|         B|\n",
      "|female|       group C|           some high school|free/reduced|        65|           86|           80|         C|\n",
      "|female|       group C|         associate's degree|free/reduced|        60|           75|           74|         C|\n",
      "|female|       group C|               some college|    standard|        54|           48|           52|         C|\n",
      "|  male|       group D|                high school|    standard|        89|           87|           79|         D|\n",
      "|female|       group C|                high school|    standard|        58|           75|           77|         C|\n",
      "|female|       group C|           some high school|free/reduced|        71|           84|           87|         C|\n",
      "|  male|       group E|                high school|    standard|        87|           91|           81|         E|\n",
      "|  male|       group C|         associate's degree|    standard|        84|           80|           80|         C|\n",
      "|female|       group C|               some college|free/reduced|        45|           73|           70|         C|\n",
      "|female|       group C|                high school|free/reduced|        50|           66|           64|         C|\n",
      "|female|       group B|               some college|free/reduced|        53|           66|           73|         B|\n",
      "|female|       group B|                high school|free/reduced|        71|           87|           82|         B|\n",
      "|  male|       group C|          bachelor's degree|    standard|        83|           78|           73|         C|\n",
      "|female|       group C|          bachelor's degree|    standard|        59|           64|           75|         C|\n",
      "|female|       group D|               some college|    standard|        82|           97|           96|         D|\n",
      "|female|       group D|         associate's degree|free/reduced|        46|           56|           57|         D|\n",
      "|female|       group C|            master's degree|    standard|        54|           64|           67|         C|\n",
      "|  male|       group B|                high school|    standard|        47|           46|           42|         B|\n",
      "+------+--------------+---------------------------+------------+----------+-------------+-------------+----------+\n",
      "only showing top 20 rows\n",
      "\n"
     ]
    }
   ],
   "source": [
    "from pyspark.sql.functions import split\n",
    "df_new = df.withColumn('race group', split(df['race/ethnicity'], ' ').getItem(1))\n",
    "df_new.show()"
   ]
  },
  {
   "cell_type": "markdown",
   "metadata": {},
   "source": [
    "# Filling Values"
   ]
  },
  {
   "cell_type": "code",
   "execution_count": 68,
   "metadata": {},
   "outputs": [
    {
     "name": "stdout",
     "output_type": "stream",
     "text": [
      "+------+-------+------------------+------------+---------+---+---+---+\n",
      "|   _c0|    _c1|               _c2|         _c3|      _c4|_c5|_c6|_c7|\n",
      "+------+-------+------------------+------------+---------+---+---+---+\n",
      "|female|group B| bachelor's degree|    standard|     none| 72| 72| 74|\n",
      "|female|group C|      some college|    standard|completed| 69| 90| 88|\n",
      "|female|group B|   master's degree|    standard|     none| 90| 95| 93|\n",
      "|  male|group A|associate's degree|free/reduced|     none| 47| 57| 44|\n",
      "|  male|group C|      some college|    standard|     none| 76| 78| 75|\n",
      "|female|group B|associate's degree|    standard|     none| 71| 83| 78|\n",
      "|female|group B|      some college|    standard|completed| 88| 95| 92|\n",
      "|  male|group B|      some college|free/reduced|     none| 40| 43| 39|\n",
      "|  male|group D|       high school|free/reduced|completed| 64| 64| 67|\n",
      "|female|group B|       high school|free/reduced|     none| 38| 60| 50|\n",
      "|  male|group C|associate's degree|    standard|     none| 58| 54| 52|\n",
      "|  male|group D|associate's degree|    standard|     none| 40| 52| 43|\n",
      "|female|group B|       high school|    standard|     none| 65| 81| 73|\n",
      "|  male|group A|      some college|    standard|completed| 78| 72| 70|\n",
      "|female|group A|   master's degree|    standard|     none| 50| 53| 58|\n",
      "|female|group C|  some high school|    standard|     none|  0| 75| 78|\n",
      "|  male|group C|       high school|    standard|     none| 88| 89| 86|\n",
      "|female|group B|  some high school|free/reduced|     none| 18| 32| 28|\n",
      "|  male|group C|   master's degree|free/reduced|completed| 46| 42| 46|\n",
      "|female|group C|associate's degree|free/reduced|     none| 54| 58| 61|\n",
      "+------+-------+------------------+------------+---------+---+---+---+\n",
      "only showing top 20 rows\n",
      "\n"
     ]
    }
   ],
   "source": [
    "df_again = spark.read.csv(\"BrokenDataset.csv\")\n",
    "df_again = df_again.filter(df_again._c0 != 'gender')\n",
    "df_again = df_again.fillna({\"_c4\": \"none\", \"_c5\": 0})\n",
    "df_again.show()"
   ]
  },
  {
   "cell_type": "markdown",
   "metadata": {},
   "source": [
    "# Graphing "
   ]
  },
  {
   "cell_type": "code",
   "execution_count": 70,
   "metadata": {},
   "outputs": [
    {
     "name": "stdout",
     "output_type": "stream",
     "text": [
      "+------+------+------+---+-------+-------+\n",
      "|Number|  City|Gender|Age| Income|Illness|\n",
      "+------+------+------+---+-------+-------+\n",
      "|     1|Dallas|  Male| 41|40367.0|     No|\n",
      "|     2|Dallas|  Male| 54|45084.0|     No|\n",
      "|     3|Dallas|  Male| 42|52483.0|     No|\n",
      "|     4|Dallas|  Male| 40|40941.0|     No|\n",
      "|     5|Dallas|  Male| 46|50289.0|     No|\n",
      "|     6|Dallas|Female| 36|50786.0|     No|\n",
      "|     7|Dallas|Female| 32|33155.0|     No|\n",
      "|     8|Dallas|  Male| 39|30914.0|     No|\n",
      "|     9|Dallas|  Male| 51|68667.0|     No|\n",
      "|    10|Dallas|Female| 30|50082.0|     No|\n",
      "|    11|Dallas|Female| 48|41524.0|    Yes|\n",
      "|    12|Dallas|  Male| 47|54777.0|     No|\n",
      "|    13|Dallas|  Male| 46|62749.0|     No|\n",
      "|    14|Dallas|Female| 42|50894.0|     No|\n",
      "|    15|Dallas|Female| 61|38429.0|     No|\n",
      "|    16|Dallas|  Male| 43|34074.0|     No|\n",
      "|    17|Dallas|  Male| 27|50398.0|     No|\n",
      "|    18|Dallas|  Male| 38|46373.0|    Yes|\n",
      "|    19|Dallas|  Male| 47|51137.0|     No|\n",
      "|    20|Dallas|Female| 35|23688.0|     No|\n",
      "+------+------+------+---+-------+-------+\n",
      "only showing top 20 rows\n",
      "\n"
     ]
    }
   ],
   "source": [
    "import matplotlib.pyplot as plt\n",
    "\n",
    "toy_df = spark.read.csv(\"toy_dataset.csv\",inferSchema=True, header=True)\n",
    "toy_df.show()\n",
    "\n"
   ]
  }
 ],
 "metadata": {
  "kernelspec": {
   "display_name": "Python 3",
   "language": "python",
   "name": "python3"
  },
  "language_info": {
   "codemirror_mode": {
    "name": "ipython",
    "version": 3
   },
   "file_extension": ".py",
   "mimetype": "text/x-python",
   "name": "python",
   "nbconvert_exporter": "python",
   "pygments_lexer": "ipython3",
   "version": "3.12.7"
  }
 },
 "nbformat": 4,
 "nbformat_minor": 2
}
