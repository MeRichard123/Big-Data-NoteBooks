{
 "cells": [
  {
   "cell_type": "code",
   "execution_count": 6,
   "metadata": {},
   "outputs": [
    {
     "name": "stdout",
     "output_type": "stream",
     "text": [
      "@stellargirl I loooooooovvvvvveee my Kindle2. Not that the DX is cool, but the 2 is fantastic in its own right.\n"
     ]
    }
   ],
   "source": [
    "import pandas as pd\n",
    "\n",
    "cols = ['sentiment', 'id', 'date', 'qurry_string', 'user', 'text']\n",
    "df = pd.read_csv(\"./twitter_data/small_twitter_data.csv\", encoding=\"latin1\", names = cols)\n",
    "\n",
    "data = df['text'].tolist()\n",
    "print(data[0])"
   ]
  },
  {
   "cell_type": "code",
   "execution_count": 11,
   "metadata": {},
   "outputs": [],
   "source": [
    "from collections import Counter\n",
    "from util import *\n",
    "\n",
    "def count_words(data):\n",
    "    counter = Counter()\n",
    "    for tweet in data:\n",
    "        words = tweet.split()\n",
    "        cleaned = map(clean_word, words)\n",
    "        filtered = filter(word_not_in_stopwords, cleaned)\n",
    "        counter.update(filtered)\n",
    "    return counter"
   ]
  },
  {
   "cell_type": "code",
   "execution_count": 12,
   "metadata": {},
   "outputs": [
    {
     "name": "stdout",
     "output_type": "stream",
     "text": [
      "CPU times: user 1e+03 ns, sys: 1 μs, total: 2 μs\n",
      "Wall time: 2.62 μs\n",
      "[('time', 45), ('night', 37), ('new', 36), ('good', 34), ('warner', 32)]\n"
     ]
    }
   ],
   "source": [
    "%time\n",
    "\n",
    "counter = count_words(data)\n",
    "print(counter.most_common(5))"
   ]
  },
  {
   "cell_type": "markdown",
   "metadata": {},
   "source": [
    "# PySpark RDD\n",
    "-> Resilient Distributed Datasets (RDDs)"
   ]
  },
  {
   "cell_type": "code",
   "execution_count": 13,
   "metadata": {},
   "outputs": [
    {
     "name": "stderr",
     "output_type": "stream",
     "text": [
      "/usr/local/lib/python3.12/site-packages/pyspark/bin/load-spark-env.sh: line 68: ps: command not found\n",
      "Setting default log level to \"WARN\".\n",
      "To adjust logging level use sc.setLogLevel(newLevel). For SparkR, use setLogLevel(newLevel).\n",
      "24/11/29 09:19:55 WARN NativeCodeLoader: Unable to load native-hadoop library for your platform... using builtin-java classes where applicable\n"
     ]
    }
   ],
   "source": [
    "from pyspark import SparkContext, SparkConf\n",
    "conf = SparkConf().setAppName('MapReduce').setMaster('local')\n",
    "sparkContext = SparkContext.getOrCreate(conf=conf)"
   ]
  },
  {
   "cell_type": "code",
   "execution_count": 17,
   "metadata": {},
   "outputs": [],
   "source": [
    "from functools import reduce\n",
    "distributed_data = sparkContext.parallelize(data, 10) # split into chunks\n",
    "\n",
    "def mapper(text):\n",
    "    words = text.split()\n",
    "    cleaned = map(clean_word, words)\n",
    "    filtered = filter(word_not_in_stopwords, cleaned)\n",
    "    return Counter(filtered)\n",
    "\n",
    "def reducer(counter1, counter2):\n",
    "    counter1.update(counter2)\n",
    "    return counter1"
   ]
  },
  {
   "cell_type": "code",
   "execution_count": 18,
   "metadata": {},
   "outputs": [
    {
     "name": "stdout",
     "output_type": "stream",
     "text": [
      "CPU times: user 1 μs, sys: 0 ns, total: 1 μs\n",
      "Wall time: 3.58 μs\n"
     ]
    },
    {
     "name": "stderr",
     "output_type": "stream",
     "text": [
      "                                                                                \r"
     ]
    }
   ],
   "source": [
    "%time \n",
    "dist_data_mapped = distributed_data.map(mapper)\n",
    "dist_data_reduced = dist_data_mapped.reduce(reducer)"
   ]
  },
  {
   "cell_type": "code",
   "execution_count": 19,
   "metadata": {},
   "outputs": [
    {
     "data": {
      "text/plain": [
       "[('time', 45), ('night', 37), ('new', 36), ('good', 34), ('warner', 32)]"
      ]
     },
     "execution_count": 19,
     "metadata": {},
     "output_type": "execute_result"
    }
   ],
   "source": [
    "dist_data_reduced.most_common(5)"
   ]
  }
 ],
 "metadata": {
  "kernelspec": {
   "display_name": "Python 3",
   "language": "python",
   "name": "python3"
  },
  "language_info": {
   "codemirror_mode": {
    "name": "ipython",
    "version": 3
   },
   "file_extension": ".py",
   "mimetype": "text/x-python",
   "name": "python",
   "nbconvert_exporter": "python",
   "pygments_lexer": "ipython3",
   "version": "3.12.7"
  }
 },
 "nbformat": 4,
 "nbformat_minor": 2
}
