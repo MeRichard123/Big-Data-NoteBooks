{
  "nbformat": 4,
  "nbformat_minor": 0,
  "metadata": {
    "colab": {
      "provenance": [],
      "collapsed_sections": [
        "Dd6t0uFzuR4X"
      ],
      "toc_visible": true
    },
    "kernelspec": {
      "display_name": "Python 3",
      "language": "python",
      "name": "python3"
    },
    "language_info": {
      "codemirror_mode": {
        "name": "ipython",
        "version": 3
      },
      "file_extension": ".py",
      "mimetype": "text/x-python",
      "name": "python",
      "nbconvert_exporter": "python",
      "pygments_lexer": "ipython3",
      "version": "3.6.5"
    }
  },
  "cells": [
    {
      "cell_type": "markdown",
      "metadata": {
        "id": "Dd6t0uFzuR4X"
      },
      "source": [
        "<a id='installing-spark'></a>\n",
        "### Installing Spark"
      ]
    },
    {
      "cell_type": "markdown",
      "metadata": {
        "id": "6apGVff5h4ca"
      },
      "source": [
        "Install Dependencies:\n",
        "\n",
        "\n",
        "1.   Java 8\n",
        "2.   Apache Spark with hadoop and\n",
        "3.   Findspark (used to locate the spark in the system)\n",
        "\n",
        "> If you have issues with spark version, please upgrade to the latest version from [here](https://archive.apache.org/dist/spark/)."
      ]
    },
    {
      "cell_type": "code",
      "metadata": {
        "id": "tt7ZS1_wGgjn"
      },
      "source": [
        "!apt-get install openjdk-8-jdk-headless -qq > /dev/null\n",
        "!wget -q http://archive.apache.org/dist/spark/spark-3.5.1/spark-3.5.1-bin-hadoop3.tgz\n",
        "!tar xf spark-3.5.1-bin-hadoop3.tgz\n",
        "!pip install -q findspark"
      ],
      "execution_count": 1,
      "outputs": []
    },
    {
      "cell_type": "markdown",
      "metadata": {
        "id": "C3x0ZRLxjMVr"
      },
      "source": [
        "Set Environment Variables:"
      ]
    },
    {
      "cell_type": "code",
      "metadata": {
        "id": "sdOOq4twHN1K"
      },
      "source": [
        "import os\n",
        "os.environ[\"JAVA_HOME\"] = \"/usr/lib/jvm/java-8-openjdk-amd64\"\n",
        "os.environ[\"SPARK_HOME\"] = \"/content/spark-3.5.1-bin-hadoop3\""
      ],
      "execution_count": 2,
      "outputs": []
    },
    {
      "cell_type": "code",
      "metadata": {
        "id": "3ACYMwhgHTYz",
        "colab": {
          "base_uri": "https://localhost:8080/"
        },
        "outputId": "b629b2b3-ead6-4b04-d706-63776443c22f"
      },
      "source": [
        "!ls"
      ],
      "execution_count": 3,
      "outputs": [
        {
          "output_type": "stream",
          "name": "stdout",
          "text": [
            "sample_data  spark-3.5.1-bin-hadoop3  spark-3.5.1-bin-hadoop3.tgz\n"
          ]
        }
      ]
    },
    {
      "cell_type": "code",
      "metadata": {
        "id": "KR1zLBk1998Z",
        "colab": {
          "base_uri": "https://localhost:8080/",
          "height": 221
        },
        "outputId": "6a0175ba-53c7-44ed-c171-5cc135ba0743"
      },
      "source": [
        "import findspark\n",
        "findspark.init()\n",
        "from pyspark.sql import SparkSession\n",
        "spark = SparkSession.builder.master(\"local[*]\").getOrCreate()\n",
        "spark.conf.set(\"spark.sql.repl.eagerEval.enabled\", True) # Property used to format output tables better\n",
        "spark"
      ],
      "execution_count": 4,
      "outputs": [
        {
          "output_type": "execute_result",
          "data": {
            "text/plain": [
              "<pyspark.sql.session.SparkSession at 0x7e508820d2a0>"
            ],
            "text/html": [
              "\n",
              "            <div>\n",
              "                <p><b>SparkSession - in-memory</b></p>\n",
              "                \n",
              "        <div>\n",
              "            <p><b>SparkContext</b></p>\n",
              "\n",
              "            <p><a href=\"http://4a29d6f7a7a5:4040\">Spark UI</a></p>\n",
              "\n",
              "            <dl>\n",
              "              <dt>Version</dt>\n",
              "                <dd><code>v3.5.1</code></dd>\n",
              "              <dt>Master</dt>\n",
              "                <dd><code>local[*]</code></dd>\n",
              "              <dt>AppName</dt>\n",
              "                <dd><code>pyspark-shell</code></dd>\n",
              "            </dl>\n",
              "        </div>\n",
              "        \n",
              "            </div>\n",
              "        "
            ]
          },
          "metadata": {},
          "execution_count": 4
        }
      ]
    },
    {
      "cell_type": "markdown",
      "source": [
        "<a id='run-spark'></a>\n",
        "### Working with PySpark"
      ],
      "metadata": {
        "id": "Udx7a8WUzmss"
      }
    },
    {
      "cell_type": "code",
      "source": [
        "import findspark\n",
        "findspark.init()"
      ],
      "metadata": {
        "id": "NABIP1vMzUue"
      },
      "execution_count": 5,
      "outputs": []
    },
    {
      "cell_type": "code",
      "source": [
        "import pyspark\n",
        "from pyspark.sql import SparkSession\n",
        "spark = SparkSession.builder.getOrCreate()\n",
        "df = spark.sql(\"select 'spark' as hello \")\n",
        "df.show()"
      ],
      "metadata": {
        "id": "25R_iFgb0F6t",
        "colab": {
          "base_uri": "https://localhost:8080/"
        },
        "outputId": "a081ffdf-2a83-438b-93df-cf942b57d02d"
      },
      "execution_count": 6,
      "outputs": [
        {
          "output_type": "stream",
          "name": "stdout",
          "text": [
            "+-----+\n",
            "|hello|\n",
            "+-----+\n",
            "|spark|\n",
            "+-----+\n",
            "\n"
          ]
        }
      ]
    },
    {
      "cell_type": "code",
      "source": [
        "from google.colab import drive\n",
        "drive.mount('/content/drive')\n",
        "path = \"./drive/My Drive/Colab Notebooks/data/brokendataset_large.csv\""
      ],
      "metadata": {
        "colab": {
          "base_uri": "https://localhost:8080/"
        },
        "id": "3o3c61AeTfoH",
        "outputId": "e0d7ec14-1383-4edd-9e4e-cbe5909245b8"
      },
      "execution_count": 7,
      "outputs": [
        {
          "output_type": "stream",
          "name": "stdout",
          "text": [
            "Mounted at /content/drive\n"
          ]
        }
      ]
    },
    {
      "cell_type": "markdown",
      "source": [
        "## Loading Data"
      ],
      "metadata": {
        "id": "pHFJCZBXUUyt"
      }
    },
    {
      "cell_type": "code",
      "source": [
        "df = spark.read.csv(path, header=True, inferSchema=True)\n",
        "\n",
        "df.printSchema()"
      ],
      "metadata": {
        "colab": {
          "base_uri": "https://localhost:8080/"
        },
        "id": "tTQmw8cVUWdA",
        "outputId": "bc70798d-b971-47db-a8df-feb29bac5598"
      },
      "execution_count": 8,
      "outputs": [
        {
          "output_type": "stream",
          "name": "stdout",
          "text": [
            "root\n",
            " |-- gender: string (nullable = true)\n",
            " |-- race/ethnicity: string (nullable = true)\n",
            " |-- parental level of education: string (nullable = true)\n",
            " |-- lunch: string (nullable = true)\n",
            " |-- test preparation course: string (nullable = true)\n",
            " |-- math score: decimal(20,0) (nullable = true)\n",
            " |-- reading score: decimal(24,0) (nullable = true)\n",
            " |-- writing score: decimal(24,0) (nullable = true)\n",
            "\n"
          ]
        }
      ]
    },
    {
      "cell_type": "code",
      "source": [
        "df2 = df.sample(0.01)\n",
        "df2.show()"
      ],
      "metadata": {
        "colab": {
          "base_uri": "https://localhost:8080/"
        },
        "id": "0Wvl1KZzUhX2",
        "outputId": "51aaf9db-d947-43a8-d122-fa4b95ffb5c7"
      },
      "execution_count": 9,
      "outputs": [
        {
          "output_type": "stream",
          "name": "stdout",
          "text": [
            "+-----------+--------------+---------------------------+------------+-----------------------+----------+-------------+-------------+\n",
            "|     gender|race/ethnicity|parental level of education|       lunch|test preparation course|math score|reading score|writing score|\n",
            "+-----------+--------------+---------------------------+------------+-----------------------+----------+-------------+-------------+\n",
            "|       male|       group A|                high school|    standard|               complete|       803|           73|           43|\n",
            "|     female|       group D|                    college|free/reduced|                   NULL|        74|           33|           47|\n",
            "|     female|       group E|                    college|free/reduced|           not complete|        38|           34|           73|\n",
            "|     female|       group A|                high school|free/reduced|               complete|        69|           67|           32|\n",
            "|       male|       group D|         associate's degree|free/reduced|               complete|        74|           75|           90|\n",
            "|       male|       group E|                high school|free/reduced|           not complete|        53|           71|           77|\n",
            "|       male|       group B|          bachelor's degree|    standard|           Not complete|        90|           33|           92|\n",
            "|       male|       group E|                high school|free/reduced|           not complete|        47|           80|           73|\n",
            "|      other|       group D|         associate's degree|free/reduced|           not complete|        93|           46|           64|\n",
            "|     female|       group E|                    college|    Standard|                   NULL|        46|           71|           36|\n",
            "|       male|       group C|          bachelor's degree|    standard|               complete|       100|           94|           97|\n",
            "|     female|       group D|                high school|free/reduced|           not complete|        64|           99|           93|\n",
            "|     female|       group B|                    college|    standard|               complete|        41|           46|          560|\n",
            "|     female|       group D|                high school|    standard|           not complete|        63|           72|           46|\n",
            "|undisclosed|       group C|            master's degree|    standard|               complete|        55|           88|           66|\n",
            "|       male|       group D|         associate's degree|        NULL|           not complete|        79|           41|           66|\n",
            "|     female|       group A|          bachelor's degree|free/reduced|           not complete|        60|           99|           62|\n",
            "|       male|       group B|                high school|    Standard|               complete|        34|           51|           88|\n",
            "|      other|       group B|          Bachelor's degree|free/reduced|           not complete|        98|           79|           35|\n",
            "|     female|       group B|                    college|free/reduced|               complete|        52|           31|           94|\n",
            "+-----------+--------------+---------------------------+------------+-----------------------+----------+-------------+-------------+\n",
            "only showing top 20 rows\n",
            "\n"
          ]
        }
      ]
    },
    {
      "cell_type": "markdown",
      "source": [
        "#### How many records?"
      ],
      "metadata": {
        "id": "gd9k25SXUlNy"
      }
    },
    {
      "cell_type": "code",
      "source": [
        "num_records = df.count()\n",
        "num_records"
      ],
      "metadata": {
        "colab": {
          "base_uri": "https://localhost:8080/"
        },
        "id": "TAJMXDAfUnnM",
        "outputId": "c8826e9d-5dcf-44b6-82f9-66ef6daa80c6"
      },
      "execution_count": 10,
      "outputs": [
        {
          "output_type": "execute_result",
          "data": {
            "text/plain": [
              "10000"
            ]
          },
          "metadata": {},
          "execution_count": 10
        }
      ]
    },
    {
      "cell_type": "code",
      "source": [
        "df.where(df.gender == \"female\").count()"
      ],
      "metadata": {
        "colab": {
          "base_uri": "https://localhost:8080/"
        },
        "id": "RaFg9t9YUpAV",
        "outputId": "eac11b2d-7ca5-4b1c-904b-2757bc27f4d0"
      },
      "execution_count": 11,
      "outputs": [
        {
          "output_type": "execute_result",
          "data": {
            "text/plain": [
              "4294"
            ]
          },
          "metadata": {},
          "execution_count": 11
        }
      ]
    },
    {
      "cell_type": "markdown",
      "source": [
        "count the number of records where the \"math score\" is above 80 and the \"test preparation course\" is \"completed\""
      ],
      "metadata": {
        "id": "-uenhSBfUrGY"
      }
    },
    {
      "cell_type": "code",
      "source": [
        "df.where((df['math score'] > 80) & (df['test preparation course'] == 'complete')).count()"
      ],
      "metadata": {
        "colab": {
          "base_uri": "https://localhost:8080/"
        },
        "id": "h7SRptoxUsio",
        "outputId": "b1ef75a2-6ba2-4999-a50b-92cf94f871b5"
      },
      "execution_count": 12,
      "outputs": [
        {
          "output_type": "execute_result",
          "data": {
            "text/plain": [
              "1422"
            ]
          },
          "metadata": {},
          "execution_count": 12
        }
      ]
    },
    {
      "cell_type": "code",
      "source": [
        "for col in df.columns:\n",
        "    df3 = df.groupBy(col).count()\n",
        "    df3.show()"
      ],
      "metadata": {
        "colab": {
          "base_uri": "https://localhost:8080/"
        },
        "id": "A088v6vCUuzK",
        "outputId": "278abc23-da7f-44f4-a7da-cb91564b255a"
      },
      "execution_count": 13,
      "outputs": [
        {
          "output_type": "stream",
          "name": "stdout",
          "text": [
            "+-----------+-----+\n",
            "|     gender|count|\n",
            "+-----------+-----+\n",
            "|Undisclosed|   11|\n",
            "|       NULL|  211|\n",
            "|     Female|  100|\n",
            "|     female| 4294|\n",
            "|      other|  526|\n",
            "|      Other|    6|\n",
            "|       male| 4288|\n",
            "|undisclosed|  482|\n",
            "|       Male|   82|\n",
            "+-----------+-----+\n",
            "\n",
            "+--------------+-----+\n",
            "|race/ethnicity|count|\n",
            "+--------------+-----+\n",
            "|       group B| 1929|\n",
            "|       group C| 1920|\n",
            "|       group D| 1926|\n",
            "|          NULL|  190|\n",
            "|       Group A|   43|\n",
            "|       Group E|   35|\n",
            "|       group A| 1907|\n",
            "|       Group D|   39|\n",
            "|       group E| 1934|\n",
            "|       Group B|   41|\n",
            "|       Group C|   36|\n",
            "+--------------+-----+\n",
            "\n",
            "+---------------------------+-----+\n",
            "|parental level of education|count|\n",
            "+---------------------------+-----+\n",
            "|                    college| 2914|\n",
            "|          Bachelor's degree|   28|\n",
            "|                       NULL|  215|\n",
            "|         associate's degree| 1914|\n",
            "|            Master's degree|    5|\n",
            "|                high school| 2878|\n",
            "|                High school|   52|\n",
            "|          bachelor's degree| 1433|\n",
            "|         Associate's degree|   41|\n",
            "|            master's degree|  464|\n",
            "|                    College|   56|\n",
            "+---------------------------+-----+\n",
            "\n",
            "+------------+-----+\n",
            "|       lunch|count|\n",
            "+------------+-----+\n",
            "|        NULL|  192|\n",
            "|free/reduced| 4812|\n",
            "|Free/reduced|   90|\n",
            "|    standard| 4797|\n",
            "|    Standard|  109|\n",
            "+------------+-----+\n",
            "\n",
            "+-----------------------+-----+\n",
            "|test preparation course|count|\n",
            "+-----------------------+-----+\n",
            "|               Complete|  101|\n",
            "|                   NULL|  202|\n",
            "|           Not complete|   97|\n",
            "|           not complete| 4791|\n",
            "|               complete| 4809|\n",
            "+-----------------------+-----+\n",
            "\n",
            "+----------+-----+\n",
            "|math score|count|\n",
            "+----------+-----+\n",
            "|        75|  153|\n",
            "|       325|    1|\n",
            "|       720|    1|\n",
            "|       651|    1|\n",
            "|       900|    3|\n",
            "|       469|    1|\n",
            "|        55|  151|\n",
            "|       252|    2|\n",
            "|        59|  140|\n",
            "|       585|    2|\n",
            "|       492|    1|\n",
            "|       888|    1|\n",
            "|        61|  163|\n",
            "|       460|    2|\n",
            "|       430|    1|\n",
            "|        60|  131|\n",
            "|       531|    1|\n",
            "|        93|  125|\n",
            "|       400|    1|\n",
            "|        51|  130|\n",
            "+----------+-----+\n",
            "only showing top 20 rows\n",
            "\n",
            "+------------------+-----+\n",
            "|     reading score|count|\n",
            "+------------------+-----+\n",
            "|                75|  117|\n",
            "|               720|    1|\n",
            "|               690|    1|\n",
            "|               900|    2|\n",
            "|               512|    1|\n",
            "|                55|  141|\n",
            "|              1001|    1|\n",
            "|               814|    2|\n",
            "|                59|  127|\n",
            "|               429|    1|\n",
            "|818181818181818181|    1|\n",
            "|                61|  148|\n",
            "|               344|    3|\n",
            "|               430|    1|\n",
            "|                60|  132|\n",
            "|                93|  146|\n",
            "|               855|    1|\n",
            "|                51|  140|\n",
            "|               816|    1|\n",
            "|               376|    1|\n",
            "+------------------+-----+\n",
            "only showing top 20 rows\n",
            "\n",
            "+-------------+-----+\n",
            "|writing score|count|\n",
            "+-------------+-----+\n",
            "|           75|  152|\n",
            "|          720|    2|\n",
            "|          900|    4|\n",
            "|           55|  130|\n",
            "|         1001|    1|\n",
            "|          814|    1|\n",
            "|           59|  143|\n",
            "|          666|    1|\n",
            "|          840|    2|\n",
            "|          429|    1|\n",
            "|          888|    1|\n",
            "|          608|    1|\n",
            "|           61|  147|\n",
            "|           60|  151|\n",
            "|           93|  138|\n",
            "|          400|    1|\n",
            "|           51|  150|\n",
            "|          464|    1|\n",
            "|          376|    1|\n",
            "|           70|  135|\n",
            "+-------------+-----+\n",
            "only showing top 20 rows\n",
            "\n"
          ]
        }
      ]
    },
    {
      "cell_type": "markdown",
      "source": [
        "- Missing Completely as random **MCAR**\n",
        "- Missing at random **MAR**\n",
        "- Missing not at random **MNAR**"
      ],
      "metadata": {
        "id": "NuU-TEgGU0Lk"
      }
    },
    {
      "cell_type": "code",
      "source": [
        "df2 = df.dropna(how = \"any\")\n",
        "df2.show()"
      ],
      "metadata": {
        "colab": {
          "base_uri": "https://localhost:8080/"
        },
        "id": "TG0apyD9U1hX",
        "outputId": "873f717f-6302-4794-de86-4d954b75bda4"
      },
      "execution_count": 14,
      "outputs": [
        {
          "output_type": "stream",
          "name": "stdout",
          "text": [
            "+-----------+--------------+---------------------------+------------+-----------------------+----------+-------------+-------------+\n",
            "|     gender|race/ethnicity|parental level of education|       lunch|test preparation course|math score|reading score|writing score|\n",
            "+-----------+--------------+---------------------------+------------+-----------------------+----------+-------------+-------------+\n",
            "|     female|       group A|         associate's degree|    standard|               complete|        52|           32|           64|\n",
            "|     female|       group A|                high school|Free/reduced|           not complete|        70|           55|           50|\n",
            "|       male|       group A|                    college|    standard|               complete|        39|           50|           54|\n",
            "|     female|       group B|                    college|free/reduced|               complete|        66|           71|           32|\n",
            "|       male|       group B|         associate's degree|    standard|               complete|        48|           30|           84|\n",
            "|       male|       group C|         associate's degree|free/reduced|               complete|        66|           60|           97|\n",
            "|undisclosed|       group C|          Bachelor's degree|    standard|           not complete|        87|           74|           88|\n",
            "|     female|       group E|            master's degree|free/reduced|               complete|        32|           40|           52|\n",
            "|       male|       group C|            master's degree|free/reduced|           not complete|        34|           68|           49|\n",
            "|     female|       group C|                    college|    standard|               complete|        89|           98|           78|\n",
            "|undisclosed|       group D|         associate's degree|    standard|               complete|        71|           39|           63|\n",
            "|       male|       group E|            master's degree|    standard|               complete|        91|           32|           64|\n",
            "|     female|       group A|                    college|free/reduced|               complete|        89|           48|           71|\n",
            "|     female|       group A|                    college|free/reduced|               complete|        89|           48|           71|\n",
            "|     female|       group B|                    college|    standard|               complete|        98|           30|           99|\n",
            "|       male|       group D|                high school|free/reduced|           not complete|        48|           38|           98|\n",
            "|     female|       group B|                    college|free/reduced|               complete|        72|           34|           99|\n",
            "|     female|       group D|         associate's degree|    standard|           not complete|        30|           50|           61|\n",
            "|       male|       group C|                high school|    standard|               complete|       704|           64|           33|\n",
            "|     female|       group B|                high school|free/reduced|               complete|        35|           61|           34|\n",
            "+-----------+--------------+---------------------------+------------+-----------------------+----------+-------------+-------------+\n",
            "only showing top 20 rows\n",
            "\n"
          ]
        }
      ]
    },
    {
      "cell_type": "code",
      "source": [
        "df2.count()"
      ],
      "metadata": {
        "colab": {
          "base_uri": "https://localhost:8080/"
        },
        "id": "ipThfOBBU3fr",
        "outputId": "a0970c65-f5f0-47fd-d0ba-e80448022483"
      },
      "execution_count": 15,
      "outputs": [
        {
          "output_type": "execute_result",
          "data": {
            "text/plain": [
              "9036"
            ]
          },
          "metadata": {},
          "execution_count": 15
        }
      ]
    },
    {
      "cell_type": "code",
      "source": [
        "df2.groupBy(\"gender\").count().show()"
      ],
      "metadata": {
        "colab": {
          "base_uri": "https://localhost:8080/"
        },
        "id": "3Wcro_65U4z_",
        "outputId": "0c097c59-873e-4a2a-c539-33b5f57648e3"
      },
      "execution_count": 16,
      "outputs": [
        {
          "output_type": "stream",
          "name": "stdout",
          "text": [
            "+-----------+-----+\n",
            "|     gender|count|\n",
            "+-----------+-----+\n",
            "|Undisclosed|    9|\n",
            "|     Female|   90|\n",
            "|     female| 3949|\n",
            "|      other|  485|\n",
            "|      Other|    6|\n",
            "|       male| 3987|\n",
            "|undisclosed|  436|\n",
            "|       Male|   74|\n",
            "+-----------+-----+\n",
            "\n"
          ]
        }
      ]
    },
    {
      "cell_type": "code",
      "source": [
        "gender_map_dict = {\n",
        "    \"Female\" : 'female',\n",
        "    \"Male\": 'male',\n",
        "    \"Other\": 'other',\n",
        "    \"Undisclosed\": \"undisclosed\"\n",
        "}\n",
        "\n",
        "# race/ethnicity\n",
        "race_map = {\n",
        "    \"group A\" : \"Group A\",\n",
        "    \"group B\" : \"Group B\",\n",
        "    \"group C\" : \"Group C\",\n",
        "    \"group D\" : \"Group D\",\n",
        "    \"group E\" : \"Group E\",\n",
        "}\n",
        "\n",
        "education = {\n",
        "    \"college\" : \"College\",\n",
        "    \"bachelor's degree\": \"Bachelor's degree\",\n",
        "    \"associate's degree\": \"Associate's degree\",\n",
        "    \"master's degree\": \"Master's degree\",\n",
        "    \"high school\": \"High school\"\n",
        "}\n",
        "\n",
        "\n",
        "lunch = {\n",
        "    \"free/reduced\" : \"Free/Reduced\",\n",
        "    \"Free/reduced\" : \"Free/Reduced\",\n",
        "    \"standard\"     : \"Standard\"\n",
        "}\n",
        "\n",
        "course_prep = {\n",
        "    \"complete\" : \"Complete\",\n",
        "    \"not complete\" : \"Not Complete\",\n",
        "    \"Not complete\" : \"Not Complete\"\n",
        "}\n",
        "\n",
        "\n",
        "df2 = df2.replace(to_replace=gender_map_dict, subset= [\"gender\"])\n",
        "df2 = df2.replace(to_replace=race_map, subset=[\"race/ethnicity\"])\n",
        "df2 = df2.replace(to_replace=education, subset=[\"parental level of education\"])\n",
        "df2 = df2.replace(to_replace=lunch, subset=[\"lunch\"])\n",
        "df2 = df2.replace(to_replace=course_prep, subset=[\"test preparation course\"])\n",
        "\n",
        "df2.groupBy(\"test preparation course\").count().show()"
      ],
      "metadata": {
        "colab": {
          "base_uri": "https://localhost:8080/"
        },
        "id": "uIGnOF7KU67f",
        "outputId": "73cd24dc-e63e-4680-d838-557a8fd3f69b"
      },
      "execution_count": 17,
      "outputs": [
        {
          "output_type": "stream",
          "name": "stdout",
          "text": [
            "+-----------------------+-----+\n",
            "|test preparation course|count|\n",
            "+-----------------------+-----+\n",
            "|           Not Complete| 4524|\n",
            "|               Complete| 4512|\n",
            "+-----------------------+-----+\n",
            "\n"
          ]
        }
      ]
    },
    {
      "cell_type": "markdown",
      "source": [
        "### Duplicates"
      ],
      "metadata": {
        "id": "6E2OIrtFU9Ex"
      }
    },
    {
      "cell_type": "code",
      "source": [
        "df4 = df2.dropDuplicates(\n",
        "    [\n",
        "     \"gender\",\n",
        "     \"race/ethnicity\",\n",
        "     \"parental level of education\",\n",
        "     \"lunch\",\n",
        "     \"test preparation course\",\n",
        "     \"math score\",\n",
        "     \"reading score\",\n",
        "     \"writing score\"\n",
        "    ]\n",
        ")\n",
        "df4.count()"
      ],
      "metadata": {
        "colab": {
          "base_uri": "https://localhost:8080/"
        },
        "id": "D7KcTFTFU_Pt",
        "outputId": "ff814aac-7ada-426a-8bc3-1d1859b0ec5d"
      },
      "execution_count": 18,
      "outputs": [
        {
          "output_type": "execute_result",
          "data": {
            "text/plain": [
              "8862"
            ]
          },
          "metadata": {},
          "execution_count": 18
        }
      ]
    },
    {
      "cell_type": "markdown",
      "source": [
        "## Numerical Data"
      ],
      "metadata": {
        "id": "mei074HJVB_7"
      }
    },
    {
      "cell_type": "code",
      "source": [
        "import matplotlib.pyplot as plt\n",
        "\n",
        "df4.agg({\"math score\": \"min\"}).show()\n",
        "df4.agg({\"math score\": \"max\"}).show()\n"
      ],
      "metadata": {
        "colab": {
          "base_uri": "https://localhost:8080/"
        },
        "id": "Zi-Pt1ZvVDjC",
        "outputId": "20499989-be74-4c7f-98e5-d3fa0a54dd8f"
      },
      "execution_count": 19,
      "outputs": [
        {
          "output_type": "stream",
          "name": "stdout",
          "text": [
            "+---------------+\n",
            "|min(math score)|\n",
            "+---------------+\n",
            "|             30|\n",
            "+---------------+\n",
            "\n",
            "+--------------------+\n",
            "|     max(math score)|\n",
            "+--------------------+\n",
            "|66666666666666666666|\n",
            "+--------------------+\n",
            "\n"
          ]
        }
      ]
    },
    {
      "cell_type": "code",
      "source": [
        "df4 = df4.filter(df4[\"math score\"] < 100)\n",
        "df4.agg({\"math score\": \"max\"}).show()\n",
        "df4.count()"
      ],
      "metadata": {
        "colab": {
          "base_uri": "https://localhost:8080/"
        },
        "id": "Hq_NGv_mVE8a",
        "outputId": "e4bd0f04-5447-4655-e3b1-c7e16ab4e7d7"
      },
      "execution_count": 26,
      "outputs": [
        {
          "output_type": "stream",
          "name": "stdout",
          "text": [
            "+---------------+\n",
            "|max(math score)|\n",
            "+---------------+\n",
            "|             99|\n",
            "+---------------+\n",
            "\n"
          ]
        },
        {
          "output_type": "execute_result",
          "data": {
            "text/plain": [
              "8543"
            ]
          },
          "metadata": {},
          "execution_count": 26
        }
      ]
    },
    {
      "cell_type": "code",
      "source": [
        "min = df4.agg({\"math score\": \"min\"})\n",
        "min = min.first().asDict()[\"min(math score)\"]\n",
        "\n",
        "max = df4.agg({\"math score\": \"max\"})\n",
        "max = max.first().asDict()[\"max(math score)\"]\n",
        "\n",
        "min = int(min)\n",
        "max = int(max)\n",
        "\n",
        "print(min, max)"
      ],
      "metadata": {
        "colab": {
          "base_uri": "https://localhost:8080/"
        },
        "id": "m3PczjZpVGjb",
        "outputId": "00d3234e-c3d3-4473-cfad-fadef6e0e63d"
      },
      "execution_count": 29,
      "outputs": [
        {
          "output_type": "stream",
          "name": "stdout",
          "text": [
            "30 99\n"
          ]
        }
      ]
    },
    {
      "cell_type": "code",
      "source": [
        "math_score = df4.select(\"math score\").collect()\n",
        "math_scores = [int(i.asDict()['math score']) for i in math_score]\n",
        "plt.boxplot(math_scores)\n",
        "plt.show()"
      ],
      "metadata": {
        "colab": {
          "base_uri": "https://localhost:8080/",
          "height": 430
        },
        "id": "yFbNdce4VI5O",
        "outputId": "e51acc74-55f7-4377-9a44-2c6eaae096d8"
      },
      "execution_count": 28,
      "outputs": [
        {
          "output_type": "display_data",
          "data": {
            "text/plain": [
              "<Figure size 640x480 with 1 Axes>"
            ],
            "image/png": "[encoded data removed]"
          },
          "metadata": {}
        }
      ]
    },
    {
      "cell_type": "markdown",
      "source": [
        "- Yellow (middle) line: median. This is 65 in our example.\n",
        "- Box: extends from the lower to upper quartile. (From 47 to 82)\n",
        "- Whiskers: indicate range$.$\n",
        "    - Max whisker length: $Q1 - (1.5 \\times IQR)$ to $Q3 - (1.5 \\times IQR)$\n",
        "    - Lower whisker: $47-(1.5 \\times 35)=-5.5$ As the lowest data point is 30, the whisker stops at 30.\n",
        "    - Upper whisker: $82+(1.5 \\times 35)=134$ The whisker will stop at the highest data point that is less than 134.\n",
        "    \n",
        "Anything beyond the upper or lower whisker should be considered an outlier."
      ],
      "metadata": {
        "id": "Pp8H4atmVdkI"
      }
    }
  ]
}