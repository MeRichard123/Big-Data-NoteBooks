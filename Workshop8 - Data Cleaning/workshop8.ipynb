{
 "cells": [
  {
   "cell_type": "code",
   "execution_count": 1,
   "metadata": {},
   "outputs": [],
   "source": [
    "import findspark\n",
    "import streamlit\n",
    "findspark.init()"
   ]
  },
  {
   "cell_type": "code",
   "execution_count": 2,
   "metadata": {},
   "outputs": [
    {
     "name": "stderr",
     "output_type": "stream",
     "text": [
      "/usr/local/lib/python3.12/site-packages/pyspark/bin/load-spark-env.sh: line 68: ps: command not found\n",
      "Setting default log level to \"WARN\".\n",
      "To adjust logging level use sc.setLogLevel(newLevel). For SparkR, use setLogLevel(newLevel).\n",
      "24/11/15 09:16:16 WARN NativeCodeLoader: Unable to load native-hadoop library for your platform... using builtin-java classes where applicable\n"
     ]
    },
    {
     "name": "stdout",
     "output_type": "stream",
     "text": [
      "+-----+\n",
      "|hello|\n",
      "+-----+\n",
      "|spark|\n",
      "+-----+\n",
      "\n"
     ]
    }
   ],
   "source": [
    "import pyspark\n",
    "\n",
    "from pyspark.sql import SparkSession\n",
    "spark = SparkSession.builder.getOrCreate()\n",
    "df = spark.sql(\"select 'spark' as hello\")\n",
    "df.show()"
   ]
  },
  {
   "cell_type": "markdown",
   "metadata": {},
   "source": [
    "## Loading Data"
   ]
  },
  {
   "cell_type": "code",
   "execution_count": 3,
   "metadata": {},
   "outputs": [
    {
     "name": "stdout",
     "output_type": "stream",
     "text": [
      "root\n",
      " |-- gender: string (nullable = true)\n",
      " |-- race/ethnicity: string (nullable = true)\n",
      " |-- parental level of education: string (nullable = true)\n",
      " |-- lunch: string (nullable = true)\n",
      " |-- test preparation course: string (nullable = true)\n",
      " |-- math score: decimal(20,0) (nullable = true)\n",
      " |-- reading score: decimal(24,0) (nullable = true)\n",
      " |-- writing score: decimal(24,0) (nullable = true)\n",
      "\n"
     ]
    }
   ],
   "source": [
    "df = spark.read.csv(\"brokendataset_large.csv\", header=True, inferSchema=True)\n",
    "\n",
    "df.printSchema()"
   ]
  },
  {
   "cell_type": "code",
   "execution_count": 8,
   "metadata": {},
   "outputs": [
    {
     "name": "stdout",
     "output_type": "stream",
     "text": [
      "+-----------+--------------+---------------------------+------------+-----------------------+----------+-------------+-------------+\n",
      "|     gender|race/ethnicity|parental level of education|       lunch|test preparation course|math score|reading score|writing score|\n",
      "+-----------+--------------+---------------------------+------------+-----------------------+----------+-------------+-------------+\n",
      "|     female|       group D|         associate's degree|    standard|               complete|        46|           46|           67|\n",
      "|     female|       group C|                    college|free/reduced|               complete|        91|           72|           74|\n",
      "|     female|       group C|          bachelor's degree|free/reduced|           not complete|        65|           31|           61|\n",
      "|     female|       group A|                high school|    standard|               complete|        58|           57|           38|\n",
      "|     Female|       group D|          bachelor's degree|    standard|           not complete|        74|           99|           58|\n",
      "|     female|       group C|                high school|free/reduced|               complete|        35|           59|           64|\n",
      "|       male|       group A|                high school|    standard|           not complete|        72|           82|           94|\n",
      "|       male|       group E|                high school|free/reduced|           not complete|        52|           92|           84|\n",
      "|     female|       group A|                high school|free/reduced|               complete|        63|           33|           61|\n",
      "|      other|       group C|                    college|free/reduced|           not complete|        54|           63|           91|\n",
      "|       male|          NULL|         associate's degree|free/reduced|               complete|        83|           74|           76|\n",
      "|     female|       group A|         associate's degree|    standard|               complete|        63|           58|           65|\n",
      "|     female|          NULL|                    college|free/reduced|           Not complete|        86|          430|           31|\n",
      "|     female|       group D|                high school|    standard|               complete|        86|           99|           91|\n",
      "|       male|       group A|          bachelor's degree|free/reduced|           not complete|        78|           42|           99|\n",
      "|       male|       group C|                    college|free/reduced|           not complete|        52|           90|          684|\n",
      "|     female|       group D|                    college|    standard|           not complete|        99|           37|           56|\n",
      "|      other|       Group D|          bachelor's degree|free/reduced|           not complete|        44|           94|           33|\n",
      "|       male|       group A|                high school|        NULL|               complete|        63|           30|           42|\n",
      "|undisclosed|       group C|                    college|    standard|           not complete|        84|           95|           76|\n",
      "+-----------+--------------+---------------------------+------------+-----------------------+----------+-------------+-------------+\n",
      "only showing top 20 rows\n",
      "\n"
     ]
    }
   ],
   "source": [
    "df2 = df.sample(0.01)\n",
    "df2.show()"
   ]
  },
  {
   "cell_type": "markdown",
   "metadata": {},
   "source": [
    "#### How many records?"
   ]
  },
  {
   "cell_type": "code",
   "execution_count": 10,
   "metadata": {},
   "outputs": [
    {
     "data": {
      "text/plain": [
       "10000"
      ]
     },
     "execution_count": 10,
     "metadata": {},
     "output_type": "execute_result"
    }
   ],
   "source": [
    "num_records = df.count()\n",
    "num_records"
   ]
  },
  {
   "cell_type": "code",
   "execution_count": 11,
   "metadata": {},
   "outputs": [
    {
     "data": {
      "text/plain": [
       "4294"
      ]
     },
     "execution_count": 11,
     "metadata": {},
     "output_type": "execute_result"
    }
   ],
   "source": [
    "df.where(df.gender == \"female\").count()"
   ]
  },
  {
   "cell_type": "markdown",
   "metadata": {},
   "source": [
    "count the number of records where the \"math score\" is above 80 and the \"test preparation course\" is \"completed\""
   ]
  },
  {
   "cell_type": "code",
   "execution_count": 13,
   "metadata": {},
   "outputs": [
    {
     "data": {
      "text/plain": [
       "1422"
      ]
     },
     "execution_count": 13,
     "metadata": {},
     "output_type": "execute_result"
    }
   ],
   "source": [
    "df.where((df['math score'] > 80) & (df['test preparation course'] == 'complete')).count()"
   ]
  },
  {
   "cell_type": "code",
   "execution_count": 15,
   "metadata": {},
   "outputs": [
    {
     "name": "stdout",
     "output_type": "stream",
     "text": [
      "+-----------+-----+\n",
      "|     gender|count|\n",
      "+-----------+-----+\n",
      "|Undisclosed|   11|\n",
      "|       NULL|  211|\n",
      "|     Female|  100|\n",
      "|     female| 4294|\n",
      "|      other|  526|\n",
      "|      Other|    6|\n",
      "|       male| 4288|\n",
      "|undisclosed|  482|\n",
      "|       Male|   82|\n",
      "+-----------+-----+\n",
      "\n",
      "+--------------+-----+\n",
      "|race/ethnicity|count|\n",
      "+--------------+-----+\n",
      "|       group B| 1929|\n",
      "|       group C| 1920|\n",
      "|       group D| 1926|\n",
      "|          NULL|  190|\n",
      "|       Group A|   43|\n",
      "|       Group E|   35|\n",
      "|       group A| 1907|\n",
      "|       Group D|   39|\n",
      "|       group E| 1934|\n",
      "|       Group B|   41|\n",
      "|       Group C|   36|\n",
      "+--------------+-----+\n",
      "\n",
      "+---------------------------+-----+\n",
      "|parental level of education|count|\n",
      "+---------------------------+-----+\n",
      "|                    college| 2914|\n",
      "|          Bachelor's degree|   28|\n",
      "|                       NULL|  215|\n",
      "|         associate's degree| 1914|\n",
      "|            Master's degree|    5|\n",
      "|                high school| 2878|\n",
      "|                High school|   52|\n",
      "|          bachelor's degree| 1433|\n",
      "|         Associate's degree|   41|\n",
      "|            master's degree|  464|\n",
      "|                    College|   56|\n",
      "+---------------------------+-----+\n",
      "\n",
      "+------------+-----+\n",
      "|       lunch|count|\n",
      "+------------+-----+\n",
      "|        NULL|  192|\n",
      "|free/reduced| 4812|\n",
      "|Free/reduced|   90|\n",
      "|    standard| 4797|\n",
      "|    Standard|  109|\n",
      "+------------+-----+\n",
      "\n",
      "+-----------------------+-----+\n",
      "|test preparation course|count|\n",
      "+-----------------------+-----+\n",
      "|               Complete|  101|\n",
      "|                   NULL|  202|\n",
      "|           Not complete|   97|\n",
      "|           not complete| 4791|\n",
      "|               complete| 4809|\n",
      "+-----------------------+-----+\n",
      "\n",
      "+----------+-----+\n",
      "|math score|count|\n",
      "+----------+-----+\n",
      "|        75|  153|\n",
      "|       325|    1|\n",
      "|       720|    1|\n",
      "|       651|    1|\n",
      "|       900|    3|\n",
      "|       469|    1|\n",
      "|        55|  151|\n",
      "|       252|    2|\n",
      "|        59|  140|\n",
      "|       585|    2|\n",
      "|       492|    1|\n",
      "|       888|    1|\n",
      "|        61|  163|\n",
      "|       460|    2|\n",
      "|       430|    1|\n",
      "|        60|  131|\n",
      "|       531|    1|\n",
      "|        93|  125|\n",
      "|       400|    1|\n",
      "|        51|  130|\n",
      "+----------+-----+\n",
      "only showing top 20 rows\n",
      "\n",
      "+------------------+-----+\n",
      "|     reading score|count|\n",
      "+------------------+-----+\n",
      "|                75|  117|\n",
      "|               720|    1|\n",
      "|               690|    1|\n",
      "|               900|    2|\n",
      "|               512|    1|\n",
      "|                55|  141|\n",
      "|              1001|    1|\n",
      "|               814|    2|\n",
      "|                59|  127|\n",
      "|               429|    1|\n",
      "|818181818181818181|    1|\n",
      "|                61|  148|\n",
      "|               344|    3|\n",
      "|               430|    1|\n",
      "|                60|  132|\n",
      "|                93|  146|\n",
      "|               855|    1|\n",
      "|                51|  140|\n",
      "|               816|    1|\n",
      "|               376|    1|\n",
      "+------------------+-----+\n",
      "only showing top 20 rows\n",
      "\n",
      "+-------------+-----+\n",
      "|writing score|count|\n",
      "+-------------+-----+\n",
      "|           75|  152|\n",
      "|          720|    2|\n",
      "|          900|    4|\n",
      "|           55|  130|\n",
      "|         1001|    1|\n",
      "|          814|    1|\n",
      "|           59|  143|\n",
      "|          666|    1|\n",
      "|          840|    2|\n",
      "|          429|    1|\n",
      "|          888|    1|\n",
      "|          608|    1|\n",
      "|           61|  147|\n",
      "|           60|  151|\n",
      "|           93|  138|\n",
      "|          400|    1|\n",
      "|           51|  150|\n",
      "|          464|    1|\n",
      "|          376|    1|\n",
      "|           70|  135|\n",
      "+-------------+-----+\n",
      "only showing top 20 rows\n",
      "\n"
     ]
    }
   ],
   "source": [
    "for col in df.columns:\n",
    "    df3 = df.groupBy(col).count()\n",
    "    df3.show()"
   ]
  },
  {
   "cell_type": "markdown",
   "metadata": {},
   "source": [
    "- Missing Completely as random **MCAR**\n",
    "- Missing at random **MAR**\n",
    "- Missing not at random **MNAR**"
   ]
  },
  {
   "cell_type": "code",
   "execution_count": 16,
   "metadata": {},
   "outputs": [
    {
     "name": "stdout",
     "output_type": "stream",
     "text": [
      "+-----------+--------------+---------------------------+------------+-----------------------+----------+-------------+-------------+\n",
      "|     gender|race/ethnicity|parental level of education|       lunch|test preparation course|math score|reading score|writing score|\n",
      "+-----------+--------------+---------------------------+------------+-----------------------+----------+-------------+-------------+\n",
      "|     female|       group A|         associate's degree|    standard|               complete|        52|           32|           64|\n",
      "|     female|       group A|                high school|Free/reduced|           not complete|        70|           55|           50|\n",
      "|       male|       group A|                    college|    standard|               complete|        39|           50|           54|\n",
      "|     female|       group B|                    college|free/reduced|               complete|        66|           71|           32|\n",
      "|       male|       group B|         associate's degree|    standard|               complete|        48|           30|           84|\n",
      "|       male|       group C|         associate's degree|free/reduced|               complete|        66|           60|           97|\n",
      "|undisclosed|       group C|          Bachelor's degree|    standard|           not complete|        87|           74|           88|\n",
      "|     female|       group E|            master's degree|free/reduced|               complete|        32|           40|           52|\n",
      "|       male|       group C|            master's degree|free/reduced|           not complete|        34|           68|           49|\n",
      "|     female|       group C|                    college|    standard|               complete|        89|           98|           78|\n",
      "|undisclosed|       group D|         associate's degree|    standard|               complete|        71|           39|           63|\n",
      "|       male|       group E|            master's degree|    standard|               complete|        91|           32|           64|\n",
      "|     female|       group A|                    college|free/reduced|               complete|        89|           48|           71|\n",
      "|     female|       group A|                    college|free/reduced|               complete|        89|           48|           71|\n",
      "|     female|       group B|                    college|    standard|               complete|        98|           30|           99|\n",
      "|       male|       group D|                high school|free/reduced|           not complete|        48|           38|           98|\n",
      "|     female|       group B|                    college|free/reduced|               complete|        72|           34|           99|\n",
      "|     female|       group D|         associate's degree|    standard|           not complete|        30|           50|           61|\n",
      "|       male|       group C|                high school|    standard|               complete|       704|           64|           33|\n",
      "|     female|       group B|                high school|free/reduced|               complete|        35|           61|           34|\n",
      "+-----------+--------------+---------------------------+------------+-----------------------+----------+-------------+-------------+\n",
      "only showing top 20 rows\n",
      "\n"
     ]
    }
   ],
   "source": [
    "df2 = df.dropna(how = \"any\")\n",
    "df2.show()"
   ]
  },
  {
   "cell_type": "code",
   "execution_count": 17,
   "metadata": {},
   "outputs": [
    {
     "data": {
      "text/plain": [
       "9036"
      ]
     },
     "execution_count": 17,
     "metadata": {},
     "output_type": "execute_result"
    }
   ],
   "source": [
    "df2.count()"
   ]
  },
  {
   "cell_type": "code",
   "execution_count": 19,
   "metadata": {},
   "outputs": [
    {
     "name": "stdout",
     "output_type": "stream",
     "text": [
      "+-----------+-----+\n",
      "|     gender|count|\n",
      "+-----------+-----+\n",
      "|Undisclosed|    9|\n",
      "|     Female|   90|\n",
      "|     female| 3949|\n",
      "|      other|  485|\n",
      "|      Other|    6|\n",
      "|       male| 3987|\n",
      "|undisclosed|  436|\n",
      "|       Male|   74|\n",
      "+-----------+-----+\n",
      "\n"
     ]
    }
   ],
   "source": [
    "df2.groupBy(\"gender\").count().show()"
   ]
  },
  {
   "cell_type": "markdown",
   "metadata": {},
   "source": [
    "Duplicate Categories"
   ]
  },
  {
   "cell_type": "code",
   "execution_count": 29,
   "metadata": {},
   "outputs": [
    {
     "name": "stdout",
     "output_type": "stream",
     "text": [
      "+-----------------------+-----+\n",
      "|test preparation course|count|\n",
      "+-----------------------+-----+\n",
      "|           Not Complete| 4524|\n",
      "|               Complete| 4512|\n",
      "+-----------------------+-----+\n",
      "\n"
     ]
    }
   ],
   "source": [
    "gender_map_dict = {\n",
    "    \"Female\" : 'female',\n",
    "    \"Male\": 'male',\n",
    "    \"Other\": 'other',\n",
    "    \"Undisclosed\": \"undisclosed\"\n",
    "}\n",
    "\n",
    "# race/ethnicity\n",
    "race_map = {\n",
    "    \"group A\" : \"Group A\",\n",
    "    \"group B\" : \"Group B\",\n",
    "    \"group C\" : \"Group C\",\n",
    "    \"group D\" : \"Group D\",\n",
    "    \"group E\" : \"Group E\",\n",
    "}\n",
    "\n",
    "education = {\n",
    "    \"college\" : \"College\",\n",
    "    \"bachelor's degree\": \"Bachelor's degree\",\n",
    "    \"associate's degree\": \"Associate's degree\",\n",
    "    \"master's degree\": \"Master's degree\",\n",
    "    \"high school\": \"High school\"\n",
    "}\n",
    "\n",
    "\n",
    "lunch = {\n",
    "    \"free/reduced\" : \"Free/Reduced\",\n",
    "    \"Free/reduced\" : \"Free/Reduced\",\n",
    "    \"standard\"     : \"Standard\"\n",
    "}\n",
    "\n",
    "course_prep = {\n",
    "    \"complete\" : \"Complete\",\n",
    "    \"not complete\" : \"Not Complete\",\n",
    "    \"Not complete\" : \"Not Complete\"\n",
    "}\n",
    "\n",
    "\n",
    "df2 = df2.replace(to_replace=gender_map_dict, subset= [\"gender\"])\n",
    "df2 = df2.replace(to_replace=race_map, subset=[\"race/ethnicity\"])\n",
    "df2 = df2.replace(to_replace=education, subset=[\"parental level of education\"])\n",
    "df2 = df2.replace(to_replace=lunch, subset=[\"lunch\"])\n",
    "df2 = df2.replace(to_replace=course_prep, subset=[\"test preparation course\"])\n",
    "\n",
    "df2.groupBy(\"test preparation course\").count().show()"
   ]
  },
  {
   "cell_type": "markdown",
   "metadata": {},
   "source": [
    "## Duplicates"
   ]
  },
  {
   "cell_type": "code",
   "execution_count": 33,
   "metadata": {},
   "outputs": [
    {
     "data": {
      "text/plain": [
       "8862"
      ]
     },
     "execution_count": 33,
     "metadata": {},
     "output_type": "execute_result"
    }
   ],
   "source": [
    "df4 = df2.dropDuplicates(\n",
    "    [\n",
    "     \"gender\",\n",
    "     \"race/ethnicity\",\n",
    "     \"parental level of education\",\n",
    "     \"lunch\",\n",
    "     \"test preparation course\",\n",
    "     \"math score\",\n",
    "     \"reading score\",\n",
    "     \"writing score\"\n",
    "    ]\n",
    ")\n",
    "df4.count()"
   ]
  },
  {
   "cell_type": "markdown",
   "metadata": {},
   "source": [
    "## Numerical Data"
   ]
  },
  {
   "cell_type": "code",
   "execution_count": 36,
   "metadata": {},
   "outputs": [
    {
     "name": "stdout",
     "output_type": "stream",
     "text": [
      "+---------------+\n",
      "|min(math score)|\n",
      "+---------------+\n",
      "|             30|\n",
      "+---------------+\n",
      "\n",
      "+--------------------+\n",
      "|     max(math score)|\n",
      "+--------------------+\n",
      "|66666666666666666666|\n",
      "+--------------------+\n",
      "\n"
     ]
    }
   ],
   "source": [
    "import matplotlib.pyplot as plt\n",
    "\n",
    "df4.agg({\"math score\": \"min\"}).show()\n",
    "df4.agg({\"math score\": \"max\"}).show()\n"
   ]
  },
  {
   "cell_type": "code",
   "execution_count": 39,
   "metadata": {},
   "outputs": [
    {
     "name": "stdout",
     "output_type": "stream",
     "text": [
      "+---------------+\n",
      "|max(math score)|\n",
      "+---------------+\n",
      "|           1188|\n",
      "+---------------+\n",
      "\n"
     ]
    },
    {
     "data": {
      "text/plain": [
       "8859"
      ]
     },
     "execution_count": 39,
     "metadata": {},
     "output_type": "execute_result"
    }
   ],
   "source": [
    "df4 = df4.filter(df4[\"math score\"] < 2000)\n",
    "df4.agg({\"math score\": \"max\"}).show()\n",
    "df4.count()"
   ]
  },
  {
   "cell_type": "code",
   "execution_count": 40,
   "metadata": {},
   "outputs": [],
   "source": [
    "min = df4.agg({\"math score\": \"min\"})\n",
    "min = min.first().asDict()[\"min(math score)\"]\n",
    "\n",
    "max = df4.agg({\"math score\": \"max\"})\n",
    "max = max.first().asDict()[\"max(math score)\"]\n",
    "\n",
    "min = int(min)\n",
    "max = int(max)"
   ]
  },
  {
   "cell_type": "code",
   "execution_count": null,
   "metadata": {},
   "outputs": [],
   "source": [
    "math_score = df4.select(\"math score\").collect()\n",
    "math_scores = [int(i.asDict()['math score']) for i in math_score]\n",
    "plt.boxplot(math_scores)\n",
    "plt.show()"
   ]
  },
  {
   "attachments": {
    "image-2.png": {
     "image/png": "[encoded data removed]"
    }
   },
   "cell_type": "markdown",
   "metadata": {},
   "source": [
    "![image-2.png](attachment:image-2.png)"
   ]
  },
  {
   "cell_type": "markdown",
   "metadata": {},
   "source": [
    "- Yellow (middle) line: median. This is 65 in our example.\n",
    "- Box: extends from the lower to upper quartile. (From 47 to 82)\n",
    "- Whiskers: indicate range.\n",
    "    - Max whisker length: $Q1-(1.5*IQR)$ to $Q3+(1.5*IQR)$\n",
    "    - Lower whisker: $47-(1.5 \\times 35)=-5.5$ As the lowest data point is 30, the whisker stops at 30.\n",
    "    - Upper whisker: $82+(1.5 \\times 35)=134$ The whisker will stop at the highest data point that is less than 134.\n",
    "    \n",
    "Anything beyond the upper or lower whisker should be considered an outlier."
   ]
  }
 ],
 "metadata": {
  "kernelspec": {
   "display_name": "Python 3",
   "language": "python",
   "name": "python3"
  },
  "language_info": {
   "codemirror_mode": {
    "name": "ipython",
    "version": 3
   },
   "file_extension": ".py",
   "mimetype": "text/x-python",
   "name": "python",
   "nbconvert_exporter": "python",
   "pygments_lexer": "ipython3",
   "version": "3.12.7"
  }
 },
 "nbformat": 4,
 "nbformat_minor": 2
}
