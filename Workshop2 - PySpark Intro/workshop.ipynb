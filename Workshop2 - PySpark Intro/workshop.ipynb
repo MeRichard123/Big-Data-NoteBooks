{
 "cells": [
  {
   "cell_type": "code",
   "execution_count": 1,
   "metadata": {},
   "outputs": [],
   "source": [
    "import findspark\n",
    "\n",
    "findspark.init()"
   ]
  },
  {
   "cell_type": "code",
   "execution_count": 11,
   "metadata": {},
   "outputs": [
    {
     "name": "stdout",
     "output_type": "stream",
     "text": [
      "+-----+\n",
      "|hello|\n",
      "+-----+\n",
      "|spark|\n",
      "+-----+\n",
      "\n"
     ]
    }
   ],
   "source": [
    "import pyspark\n",
    "from pyspark.sql import SparkSession\n",
    "\n",
    "spark = SparkSession.builder.getOrCreate()\n",
    "\n",
    "df = spark.sql(\"select 'spark' as hello\")\n",
    "df.show()"
   ]
  },
  {
   "cell_type": "code",
   "execution_count": 12,
   "metadata": {},
   "outputs": [
    {
     "name": "stdout",
     "output_type": "stream",
     "text": [
      "+------+------+------+---+-------+-------+\n",
      "|Number|  City|Gender|Age| Income|Illness|\n",
      "+------+------+------+---+-------+-------+\n",
      "|     1|Dallas|  Male| 41|40367.0|     No|\n",
      "|     2|Dallas|  Male| 54|45084.0|     No|\n",
      "|     3|Dallas|  Male| 42|52483.0|     No|\n",
      "|     4|Dallas|  Male| 40|40941.0|     No|\n",
      "|     5|Dallas|  Male| 46|50289.0|     No|\n",
      "|     6|Dallas|Female| 36|50786.0|     No|\n",
      "|     7|Dallas|Female| 32|33155.0|     No|\n",
      "|     8|Dallas|  Male| 39|30914.0|     No|\n",
      "|     9|Dallas|  Male| 51|68667.0|     No|\n",
      "|    10|Dallas|Female| 30|50082.0|     No|\n",
      "|    11|Dallas|Female| 48|41524.0|    Yes|\n",
      "|    12|Dallas|  Male| 47|54777.0|     No|\n",
      "|    13|Dallas|  Male| 46|62749.0|     No|\n",
      "|    14|Dallas|Female| 42|50894.0|     No|\n",
      "|    15|Dallas|Female| 61|38429.0|     No|\n",
      "|    16|Dallas|  Male| 43|34074.0|     No|\n",
      "|    17|Dallas|  Male| 27|50398.0|     No|\n",
      "|    18|Dallas|  Male| 38|46373.0|    Yes|\n",
      "|    19|Dallas|  Male| 47|51137.0|     No|\n",
      "|    20|Dallas|Female| 35|23688.0|     No|\n",
      "+------+------+------+---+-------+-------+\n",
      "only showing top 20 rows\n",
      "\n",
      "root\n",
      " |-- Number: integer (nullable = true)\n",
      " |-- City: string (nullable = true)\n",
      " |-- Gender: string (nullable = true)\n",
      " |-- Age: integer (nullable = true)\n",
      " |-- Income: double (nullable = true)\n",
      " |-- Illness: string (nullable = true)\n",
      "\n"
     ]
    }
   ],
   "source": [
    "df = spark.read.csv(\"toy_dataset.csv\", inferSchema=True, header=True)\n",
    "df.show()\n",
    "df.printSchema()"
   ]
  },
  {
   "cell_type": "markdown",
   "metadata": {},
   "source": [
    "## How Many Records?"
   ]
  },
  {
   "cell_type": "code",
   "execution_count": 7,
   "metadata": {},
   "outputs": [
    {
     "data": {
      "text/plain": [
       "150000"
      ]
     },
     "execution_count": 7,
     "metadata": {},
     "output_type": "execute_result"
    }
   ],
   "source": [
    "df.count()"
   ]
  },
  {
   "cell_type": "markdown",
   "metadata": {},
   "source": [
    "## How many Total Males?"
   ]
  },
  {
   "cell_type": "code",
   "execution_count": 15,
   "metadata": {},
   "outputs": [
    {
     "name": "stdout",
     "output_type": "stream",
     "text": [
      "83800\n",
      "83800\n"
     ]
    }
   ],
   "source": [
    "print(df.filter(df.Gender == \"Male\").count())\n",
    "print(df.where(df.Gender == \"Male\").count())"
   ]
  },
  {
   "cell_type": "code",
   "execution_count": 21,
   "metadata": {},
   "outputs": [
    {
     "name": "stdout",
     "output_type": "stream",
     "text": [
      "+------+------+------+---+-------+-------+\n",
      "|Number|  City|Gender|Age| Income|Illness|\n",
      "+------+------+------+---+-------+-------+\n",
      "|    63|Dallas|Female| 54|36552.0|     No|\n",
      "|    66|Dallas|Female| 53|40244.0|     No|\n",
      "|   271|Dallas|  Male| 47|43823.0|     No|\n",
      "|   389|Dallas|  Male| 42|65963.0|     No|\n",
      "|   495|Dallas|  Male| 29|55608.0|     No|\n",
      "|   930|Dallas|Female| 25|38943.0|     No|\n",
      "|   970|Dallas|  Male| 62|54903.0|     No|\n",
      "|  1166|Dallas|  Male| 49|53156.0|     No|\n",
      "|  1167|Dallas|Female| 54|31292.0|     No|\n",
      "|  1525|Dallas|  Male| 38|33051.0|     No|\n",
      "|  1635|Dallas|  Male| 33|44051.0|     No|\n",
      "|  1667|Dallas|Female| 64|41046.0|     No|\n",
      "|  1732|Dallas|Female| 33|33275.0|     No|\n",
      "|  1759|Dallas|Female| 30|54870.0|     No|\n",
      "|  1820|Dallas|  Male| 54|64900.0|     No|\n",
      "|  1884|Dallas|  Male| 52|42129.0|     No|\n",
      "|  1925|Dallas|Female| 54|39058.0|     No|\n",
      "|  1932|Dallas|Female| 59|39407.0|    Yes|\n",
      "|  1939|Dallas|  Male| 27|60077.0|     No|\n",
      "|  2062|Dallas|  Male| 34|68562.0|     No|\n",
      "+------+------+------+---+-------+-------+\n",
      "only showing top 20 rows\n",
      "\n"
     ]
    }
   ],
   "source": [
    "df2 = df.sample(0.01)\n",
    "df2.show()"
   ]
  },
  {
   "cell_type": "markdown",
   "metadata": {},
   "source": [
    "## How many people live in each city?"
   ]
  },
  {
   "cell_type": "code",
   "execution_count": 23,
   "metadata": {},
   "outputs": [
    {
     "name": "stdout",
     "output_type": "stream",
     "text": [
      "+---------------+-----+\n",
      "|           City|count|\n",
      "+---------------+-----+\n",
      "|         Dallas|19707|\n",
      "|    Los Angeles|32173|\n",
      "|  New York City|50307|\n",
      "|  Mountain View|14219|\n",
      "|      San Diego| 4881|\n",
      "|         Austin|12292|\n",
      "|Washington D.C.| 8120|\n",
      "|         Boston| 8301|\n",
      "+---------------+-----+\n",
      "\n"
     ]
    }
   ],
   "source": [
    "cities = df.groupBy(\"City\").count().count()\n",
    "df.groupBy(\"City\").count().show()"
   ]
  },
  {
   "cell_type": "markdown",
   "metadata": {},
   "source": [
    "## How many people are ill vs not ill?"
   ]
  },
  {
   "cell_type": "code",
   "execution_count": 32,
   "metadata": {},
   "outputs": [
    {
     "name": "stdout",
     "output_type": "stream",
     "text": [
      "Ill = 12139, notIll = 137861\n",
      "+-------+------+\n",
      "|Illness| count|\n",
      "+-------+------+\n",
      "|     No|137861|\n",
      "|    Yes| 12139|\n",
      "+-------+------+\n",
      "\n"
     ]
    }
   ],
   "source": [
    "illPeople = df.filter(df.Illness == \"Yes\").count()\n",
    "notIll = df.count() - illPeople\n",
    "print(f\"Ill = {illPeople}, notIll = {notIll}\")\n",
    "\n",
    "df2 = df.groupBy(\"Illness\").count()\n",
    "df2.show()"
   ]
  },
  {
   "cell_type": "code",
   "execution_count": 35,
   "metadata": {},
   "outputs": [
    {
     "data": {
      "text/plain": [
       "137861"
      ]
     },
     "execution_count": 35,
     "metadata": {},
     "output_type": "execute_result"
    }
   ],
   "source": [
    "rows = df2.select(\"count\").collect()\n",
    "rows[0][0]"
   ]
  },
  {
   "cell_type": "markdown",
   "metadata": {},
   "source": [
    "## How many Males vs Females?"
   ]
  },
  {
   "cell_type": "code",
   "execution_count": 52,
   "metadata": {},
   "outputs": [
    {
     "name": "stdout",
     "output_type": "stream",
     "text": [
      "Female = 66200, Males = 83800\n",
      "Male (55.87%) : Female (44.13%)\n"
     ]
    },
    {
     "data": {
      "image/png": "[encoded data removed]",
      "text/plain": [
       "<Figure size 640x480 with 1 Axes>"
      ]
     },
     "metadata": {},
     "output_type": "display_data"
    }
   ],
   "source": [
    "import matplotlib.pyplot as plt\n",
    "data = df.groupBy(\"Gender\").count().select(\"count\").collect()\n",
    "females, males = data[0][0], data[1][0]\n",
    "total = females + males\n",
    "\n",
    "print(f\"Female = {females}, Males = {males}\")\n",
    "\n",
    "percentFemale = (females / total) * 100\n",
    "percentMale = (males / total) * 100\n",
    "\n",
    "print(f\"Male ({percentMale:.4}%) : Female ({percentFemale:.4}%)\")\n",
    "\n",
    "\n",
    "plt.pie([percentFemale, percentMale], labels=[\"Female\", \"Male\"], autopct=\"%1.1f%%\")\n",
    "plt.show()\n"
   ]
  },
  {
   "cell_type": "markdown",
   "metadata": {},
   "source": [
    "# Are there more ill men than women?"
   ]
  },
  {
   "cell_type": "code",
   "execution_count": 53,
   "metadata": {},
   "outputs": [
    {
     "name": "stdout",
     "output_type": "stream",
     "text": [
      "+------+-----+\n",
      "|Gender|count|\n",
      "+------+-----+\n",
      "|Female| 5331|\n",
      "|  Male| 6808|\n",
      "+------+-----+\n",
      "\n"
     ]
    }
   ],
   "source": [
    "df2 = df.where(df.Illness==\"Yes\").groupBy(df.Gender).count()\n",
    "df2.show()"
   ]
  },
  {
   "cell_type": "markdown",
   "metadata": {},
   "source": [
    "# Which City has the most ill people?"
   ]
  },
  {
   "cell_type": "code",
   "execution_count": 73,
   "metadata": {},
   "outputs": [
    {
     "data": {
      "text/plain": [
       "[Row(City='New York City', count=4021)]"
      ]
     },
     "execution_count": 73,
     "metadata": {},
     "output_type": "execute_result"
    }
   ],
   "source": [
    "import matplotlib.pyplot as plt\n",
    "from pyspark.sql.functions import col, asc, desc\n",
    "\n",
    "df2 = df.where(df.Illness == \"Yes\").groupBy(df.City).count().sort(col(\"count\").desc())\n",
    "df2.take(1)"
   ]
  },
  {
   "cell_type": "markdown",
   "metadata": {},
   "source": [
    "# Do Ill people earn less on average than not ill?"
   ]
  },
  {
   "cell_type": "code",
   "execution_count": 78,
   "metadata": {},
   "outputs": [
    {
     "name": "stdout",
     "output_type": "stream",
     "text": [
      "-RECORD 0--------------------------------\n",
      " Mean Healthy Income | 91250.59017416093 \n",
      " Mean Unwell Income  | 91277.8753604086  \n",
      "\n"
     ]
    }
   ],
   "source": [
    "from pyspark.sql.functions import mean\n",
    "\n",
    "avgill = df.filter(df.Illness == \"No\").select(mean(\"Income\")).withColumnRenamed(\"avg(Income)\", \"Mean Healthy Income\")\n",
    "avghealthy = df.filter(df.Illness == \"Yes\").select(mean(\"Income\")).withColumnRenamed(\"avg(Income)\", \"Mean Unwell Income\")\n",
    "avgill.join(avghealthy).show(vertical=True)\n"
   ]
  },
  {
   "cell_type": "markdown",
   "metadata": {},
   "source": [
    "# What is the mean age for ill people?"
   ]
  },
  {
   "cell_type": "code",
   "execution_count": 81,
   "metadata": {},
   "outputs": [
    {
     "name": "stdout",
     "output_type": "stream",
     "text": [
      "+-------+------------------+\n",
      "|summary|               Age|\n",
      "+-------+------------------+\n",
      "|  count|             12139|\n",
      "|   mean| 45.02084191449048|\n",
      "| stddev|11.554129904969162|\n",
      "|    min|                25|\n",
      "|    25%|                35|\n",
      "|    50%|                45|\n",
      "|    75%|                55|\n",
      "|    max|                65|\n",
      "+-------+------------------+\n",
      "\n"
     ]
    }
   ],
   "source": [
    "df.filter(df.Illness == \"Yes\").select(\"Age\").summary().show()"
   ]
  },
  {
   "cell_type": "markdown",
   "metadata": {},
   "source": [
    "# Where does the oldest non ill person live?"
   ]
  },
  {
   "cell_type": "code",
   "execution_count": 87,
   "metadata": {},
   "outputs": [
    {
     "name": "stdout",
     "output_type": "stream",
     "text": [
      "+------+-------------+------+---+--------+-------+\n",
      "|Number|         City|Gender|Age|  Income|Illness|\n",
      "+------+-------------+------+---+--------+-------+\n",
      "|109331|Mountain View|Female| 65|141513.0|     No|\n",
      "|   405|       Dallas|  Male| 65| 54304.0|     No|\n",
      "|109679|Mountain View|  Male| 65|138095.0|     No|\n",
      "|   715|       Dallas|Female| 65| 37573.0|     No|\n",
      "+------+-------------+------+---+--------+-------+\n",
      "only showing top 4 rows\n",
      "\n",
      "+--------+\n",
      "|max(Age)|\n",
      "+--------+\n",
      "|      65|\n",
      "+--------+\n",
      "\n"
     ]
    }
   ],
   "source": [
    "from pyspark.sql.functions import max\n",
    "\n",
    "df.filter(df.Illness == \"No\").sort(col(\"Age\").desc()).show(n=4)\n",
    "df.select(max(\"Age\")).show()"
   ]
  },
  {
   "cell_type": "markdown",
   "metadata": {},
   "source": [
    "# Animal Dataset"
   ]
  },
  {
   "cell_type": "code",
   "execution_count": 116,
   "metadata": {},
   "outputs": [
    {
     "name": "stdout",
     "output_type": "stream",
     "text": [
      "[{'KingdomName': 'Animalia', 'KingdomCommonName': 'animals', 'ClassName': 'Actinopterygii', 'ClassCommonName': 'ray-finned fishes', 'FamilyName': 'Acanthuridae', 'FamilyCommonName': 'surgeonfishes', 'FamilyRank': '950882', 'SpeciesUrl': 'http://apps.des.qld.gov.au/species/?op=getspecies&family=acanthuridae'}, {'KingdomName': 'Animalia', 'KingdomCommonName': 'animals', 'ClassName': 'Actinopterygii', 'ClassCommonName': 'ray-finned fishes', 'FamilyName': 'Adrianichthyidae', 'FamilyCommonName': 'adrianichthyids', 'FamilyRank': '950448', 'SpeciesUrl': 'http://apps.des.qld.gov.au/species/?op=getspecies&family=adrianichthyidae'}, {'KingdomName': 'Animalia', 'KingdomCommonName': 'animals', 'ClassName': 'Actinopterygii', 'ClassCommonName': 'ray-finned fishes', 'FamilyName': 'Alestidae', 'FamilyCommonName': 'African tetras', 'FamilyRank': '950108', 'SpeciesUrl': 'http://apps.des.qld.gov.au/species/?op=getspecies&family=alestidae'}, {'KingdomName': 'Animalia', 'KingdomCommonName': 'animals', 'ClassName': 'Actinopterygii', 'ClassCommonName': 'ray-finned fishes', 'FamilyName': 'Ambassidae', 'FamilyCommonName': 'glassfishes', 'FamilyRank': '950596', 'SpeciesUrl': 'http://apps.des.qld.gov.au/species/?op=getspecies&family=ambassidae'}, {'KingdomName': 'Animalia', 'KingdomCommonName': 'animals', 'ClassName': 'Actinopterygii', 'ClassCommonName': 'ray-finned fishes', 'FamilyName': 'Anabantidae', 'FamilyCommonName': 'climbing gouramies', 'FamilyRank': '950910', 'SpeciesUrl': 'http://apps.des.qld.gov.au/species/?op=getspecies&family=anabantidae'}, {'KingdomName': 'Animalia', 'KingdomCommonName': 'animals', 'ClassName': 'Actinopterygii', 'ClassCommonName': 'ray-finned fishes', 'FamilyName': 'Anguillidae', 'FamilyCommonName': 'eels', 'FamilyRank': '950034', 'SpeciesUrl': 'http://apps.des.qld.gov.au/species/?op=getspecies&family=anguillidae'}, {'KingdomName': 'Animalia', 'KingdomCommonName': 'animals', 'ClassName': 'Actinopterygii', 'ClassCommonName': 'ray-finned fishes', 'FamilyName': 'Anostomidae', 'FamilyCommonName': 'anostomids', 'FamilyRank': '950120', 'SpeciesUrl': 'http://apps.des.qld.gov.au/species/?op=getspecies&family=anostomidae'}, {'KingdomName': 'Animalia', 'KingdomCommonName': 'animals', 'ClassName': 'Actinopterygii', 'ClassCommonName': 'ray-finned fishes', 'FamilyName': 'Antennariidae', 'FamilyCommonName': 'anglerfishes', 'FamilyRank': '950362', 'SpeciesUrl': 'http://apps.des.qld.gov.au/species/?op=getspecies&family=antennariidae'}, {'KingdomName': 'Animalia', 'KingdomCommonName': 'animals', 'ClassName': 'Actinopterygii', 'ClassCommonName': 'ray-finned fishes', 'FamilyName': 'Aplocheilidae', 'FamilyCommonName': 'rivulines', 'FamilyRank': '950420', 'SpeciesUrl': 'http://apps.des.qld.gov.au/species/?op=getspecies&family=aplocheilidae'}, {'KingdomName': 'Animalia', 'KingdomCommonName': 'animals', 'ClassName': 'Actinopterygii', 'ClassCommonName': 'ray-finned fishes', 'FamilyName': 'Apogonidae', 'FamilyCommonName': 'freshwater cardinalfishes', 'FamilyRank': '950646', 'SpeciesUrl': 'http://apps.des.qld.gov.au/species/?op=getspecies&family=apogonidae'}, {'KingdomName': 'Animalia', 'KingdomCommonName': 'animals', 'ClassName': 'Actinopterygii', 'ClassCommonName': 'ray-finned fishes', 'FamilyName': 'Apteronotidae', 'FamilyCommonName': 'ghost knifefishes', 'FamilyRank': '950218', 'SpeciesUrl': 'http://apps.des.qld.gov.au/species/?op=getspecies&family=apteronotidae'}, {'KingdomName': 'Animalia', 'KingdomCommonName': 'animals', 'ClassName': 'Actinopterygii', 'ClassCommonName': 'ray-finned fishes', 'FamilyName': 'Ariidae', 'FamilyCommonName': 'fork-tailed catfishes', 'FamilyRank': '950180', 'SpeciesUrl': 'http://apps.des.qld.gov.au/species/?op=getspecies&family=ariidae'}, {'KingdomName': 'Animalia', 'KingdomCommonName': 'animals', 'ClassName': 'Actinopterygii', 'ClassCommonName': 'ray-finned fishes', 'FamilyName': 'Atherinidae', 'FamilyCommonName': 'hardyheads', 'FamilyRank': '950406', 'SpeciesUrl': 'http://apps.des.qld.gov.au/species/?op=getspecies&family=atherinidae'}, {'KingdomName': 'Animalia', 'KingdomCommonName': 'animals', 'ClassName': 'Actinopterygii', 'ClassCommonName': 'ray-finned fishes', 'FamilyName': 'Balitoridae', 'FamilyCommonName': 'river loaches', 'FamilyRank': '950098', 'SpeciesUrl': 'http://apps.des.qld.gov.au/species/?op=getspecies&family=balitoridae'}, {'KingdomName': 'Animalia', 'KingdomCommonName': 'animals', 'ClassName': 'Actinopterygii', 'ClassCommonName': 'ray-finned fishes', 'FamilyName': 'Belonidae', 'FamilyCommonName': 'needlefishes', 'FamilyRank': '950442', 'SpeciesUrl': 'http://apps.des.qld.gov.au/species/?op=getspecies&family=belonidae'}, {'KingdomName': 'Animalia', 'KingdomCommonName': 'animals', 'ClassName': 'Actinopterygii', 'ClassCommonName': 'ray-finned fishes', 'FamilyName': 'Brachionichthyidae', 'FamilyCommonName': 'handfishes', 'FamilyRank': '950368', 'SpeciesUrl': 'http://apps.des.qld.gov.au/species/?op=getspecies&family=brachionichthyidae'}, {'KingdomName': 'Animalia', 'KingdomCommonName': 'animals', 'ClassName': 'Actinopterygii', 'ClassCommonName': 'ray-finned fishes', 'FamilyName': 'Callichthyidae', 'FamilyCommonName': 'callichthyid armored catfishes', 'FamilyRank': '950208', 'SpeciesUrl': 'http://apps.des.qld.gov.au/species/?op=getspecies&family=callichthyidae'}, {'KingdomName': 'Animalia', 'KingdomCommonName': 'animals', 'ClassName': 'Actinopterygii', 'ClassCommonName': 'ray-finned fishes', 'FamilyName': 'Carangidae', 'FamilyCommonName': 'trevallies', 'FamilyRank': '950666', 'SpeciesUrl': 'http://apps.des.qld.gov.au/species/?op=getspecies&family=carangidae'}, {'KingdomName': 'Animalia', 'KingdomCommonName': 'animals', 'ClassName': 'Actinopterygii', 'ClassCommonName': 'ray-finned fishes', 'FamilyName': 'Centropomidae', 'FamilyCommonName': 'giant perches', 'FamilyRank': '950594', 'SpeciesUrl': 'http://apps.des.qld.gov.au/species/?op=getspecies&family=centropomidae'}, {'KingdomName': 'Animalia', 'KingdomCommonName': 'animals', 'ClassName': 'Actinopterygii', 'ClassCommonName': 'ray-finned fishes', 'FamilyName': 'Chanidae', 'FamilyCommonName': 'milkfishes', 'FamilyRank': '950084', 'SpeciesUrl': 'http://apps.des.qld.gov.au/species/?op=getspecies&family=chanidae'}, {'KingdomName': 'Animalia', 'KingdomCommonName': 'animals', 'ClassName': 'Actinopterygii', 'ClassCommonName': 'ray-finned fishes', 'FamilyName': 'Characidae', 'FamilyCommonName': 'characins', 'FamilyRank': '950136', 'SpeciesUrl': 'http://apps.des.qld.gov.au/species/?op=getspecies&family=characidae'}, {'KingdomName': 'Animalia', 'KingdomCommonName': 'animals', 'ClassName': 'Actinopterygii', 'ClassCommonName': 'ray-finned fishes', 'FamilyName': 'Cichlidae', 'FamilyCommonName': 'cichlids', 'FamilyRank': '950764', 'SpeciesUrl': 'http://apps.des.qld.gov.au/species/?op=getspecies&family=cichlidae'}, {'KingdomName': 'Animalia', 'KingdomCommonName': 'animals', 'ClassName': 'Actinopterygii', 'ClassCommonName': 'ray-finned fishes', 'FamilyName': 'Cirrhitidae', 'FamilyCommonName': 'hawkfishes', 'FamilyRank': '950750', 'SpeciesUrl': 'http://apps.des.qld.gov.au/species/?op=getspecies&family=cirrhitidae'}, {'KingdomName': 'Animalia', 'KingdomCommonName': 'animals', 'ClassName': 'Actinopterygii', 'ClassCommonName': 'ray-finned fishes', 'FamilyName': 'Clupeidae', 'FamilyCommonName': 'herrings', 'FamilyRank': '950074', 'SpeciesUrl': 'http://apps.des.qld.gov.au/species/?op=getspecies&family=clupeidae'}, {'KingdomName': 'Animalia', 'KingdomCommonName': 'animals', 'ClassName': 'Actinopterygii', 'ClassCommonName': 'ray-finned fishes', 'FamilyName': 'Cobitidae', 'FamilyCommonName': 'loaches', 'FamilyRank': '950096', 'SpeciesUrl': 'http://apps.des.qld.gov.au/species/?op=getspecies&family=cobitidae'}, {'KingdomName': 'Animalia', 'KingdomCommonName': 'animals', 'ClassName': 'Actinopterygii', 'ClassCommonName': 'ray-finned fishes', 'FamilyName': 'Curimatidae', 'FamilyCommonName': 'curimatids', 'FamilyRank': '950116', 'SpeciesUrl': 'http://apps.des.qld.gov.au/species/?op=getspecies&family=curimatidae'}, {'KingdomName': 'Animalia', 'KingdomCommonName': 'animals', 'ClassName': 'Actinopterygii', 'ClassCommonName': 'ray-finned fishes', 'FamilyName': 'Cyprinidae', 'FamilyCommonName': 'minnows and carps', 'FamilyRank': '950092', 'SpeciesUrl': 'http://apps.des.qld.gov.au/species/?op=getspecies&family=cyprinidae'}, {'KingdomName': 'Animalia', 'KingdomCommonName': 'animals', 'ClassName': 'Actinopterygii', 'ClassCommonName': 'ray-finned fishes', 'FamilyName': 'Eleotridae', 'FamilyCommonName': 'gudgeons and sleepers', 'FamilyRank': '950858', 'SpeciesUrl': 'http://apps.des.qld.gov.au/species/?op=getspecies&family=eleotridae'}, {'KingdomName': 'Animalia', 'KingdomCommonName': 'animals', 'ClassName': 'Actinopterygii', 'ClassCommonName': 'ray-finned fishes', 'FamilyName': 'Elopidae', 'FamilyCommonName': 'giant herrings', 'FamilyRank': '950024', 'SpeciesUrl': 'http://apps.des.qld.gov.au/species/?op=getspecies&family=elopidae'}, {'KingdomName': 'Animalia', 'KingdomCommonName': 'animals', 'ClassName': 'Actinopterygii', 'ClassCommonName': 'ray-finned fishes', 'FamilyName': 'Engraulidae', 'FamilyCommonName': 'anchovys', 'FamilyRank': '950076', 'SpeciesUrl': 'http://apps.des.qld.gov.au/species/?op=getspecies&family=engraulidae'}, {'KingdomName': 'Animalia', 'KingdomCommonName': 'animals', 'ClassName': 'Actinopterygii', 'ClassCommonName': 'ray-finned fishes', 'FamilyName': 'Galaxiidae', 'FamilyCommonName': 'galaxids', 'FamilyRank': '950254', 'SpeciesUrl': 'http://apps.des.qld.gov.au/species/?op=getspecies&family=galaxiidae'}, {'KingdomName': 'Animalia', 'KingdomCommonName': 'animals', 'ClassName': 'Actinopterygii', 'ClassCommonName': 'ray-finned fishes', 'FamilyName': 'Gasteropelecidae', 'FamilyCommonName': 'freshwater hatchetfishes', 'FamilyRank': '950128', 'SpeciesUrl': 'http://apps.des.qld.gov.au/species/?op=getspecies&family=gasteropelecidae'}, {'KingdomName': 'Animalia', 'KingdomCommonName': 'animals', 'ClassName': 'Actinopterygii', 'ClassCommonName': 'ray-finned fishes', 'FamilyName': 'Gerreidae', 'FamilyCommonName': 'silverbellies', 'FamilyRank': '950694', 'SpeciesUrl': 'http://apps.des.qld.gov.au/species/?op=getspecies&family=gerreidae'}, {'KingdomName': 'Animalia', 'KingdomCommonName': 'animals', 'ClassName': 'Actinopterygii', 'ClassCommonName': 'ray-finned fishes', 'FamilyName': 'Gobiidae', 'FamilyCommonName': 'gobies', 'FamilyRank': '950860', 'SpeciesUrl': 'http://apps.des.qld.gov.au/species/?op=getspecies&family=gobiidae'}, {'KingdomName': 'Animalia', 'KingdomCommonName': 'animals', 'ClassName': 'Actinopterygii', 'ClassCommonName': 'ray-finned fishes', 'FamilyName': 'Gyrinocheilidae', 'FamilyCommonName': 'algae eaters', 'FamilyRank': '950100', 'SpeciesUrl': 'http://apps.des.qld.gov.au/species/?op=getspecies&family=gyrinocheilidae'}, {'KingdomName': 'Animalia', 'KingdomCommonName': 'animals', 'ClassName': 'Actinopterygii', 'ClassCommonName': 'ray-finned fishes', 'FamilyName': 'Helostomatidae', 'FamilyCommonName': 'kissing gourami', 'FamilyRank': '950914', 'SpeciesUrl': 'http://apps.des.qld.gov.au/species/?op=getspecies&family=helostomatidae'}, {'KingdomName': 'Animalia', 'KingdomCommonName': 'animals', 'ClassName': 'Actinopterygii', 'ClassCommonName': 'ray-finned fishes', 'FamilyName': 'Hemiramphidae', 'FamilyCommonName': 'garfish or halfbeaks', 'FamilyRank': '950444', 'SpeciesUrl': 'http://apps.des.qld.gov.au/species/?op=getspecies&family=hemiramphidae'}, {'KingdomName': 'Animalia', 'KingdomCommonName': 'animals', 'ClassName': 'Actinopterygii', 'ClassCommonName': 'ray-finned fishes', 'FamilyName': 'Kuhliidae', 'FamilyCommonName': 'flagtails', 'FamilyRank': '950638', 'SpeciesUrl': 'http://apps.des.qld.gov.au/species/?op=getspecies&family=kuhliidae'}, {'KingdomName': 'Animalia', 'KingdomCommonName': 'animals', 'ClassName': 'Actinopterygii', 'ClassCommonName': 'ray-finned fishes', 'FamilyName': 'Kurtidae', 'FamilyCommonName': 'nurseryfishes', 'FamilyRank': '950870', 'SpeciesUrl': 'http://apps.des.qld.gov.au/species/?op=getspecies&family=kurtidae'}, {'KingdomName': 'Animalia', 'KingdomCommonName': 'animals', 'ClassName': 'Actinopterygii', 'ClassCommonName': 'ray-finned fishes', 'FamilyName': 'Labridae', 'FamilyCommonName': 'wrasses', 'FamilyRank': '950770', 'SpeciesUrl': 'http://apps.des.qld.gov.au/species/?op=getspecies&family=labridae'}, {'KingdomName': 'Animalia', 'KingdomCommonName': 'animals', 'ClassName': 'Actinopterygii', 'ClassCommonName': 'ray-finned fishes', 'FamilyName': 'Lebiasinidae', 'FamilyCommonName': 'lebiasinids', 'FamilyRank': '950126', 'SpeciesUrl': 'http://apps.des.qld.gov.au/species/?op=getspecies&family=lebiasinidae'}, {'KingdomName': 'Animalia', 'KingdomCommonName': 'animals', 'ClassName': 'Actinopterygii', 'ClassCommonName': 'ray-finned fishes', 'FamilyName': 'Leiognathidae', 'FamilyCommonName': 'ponyfishes', 'FamilyRank': '950674', 'SpeciesUrl': 'http://apps.des.qld.gov.au/species/?op=getspecies&family=leiognathidae'}, {'KingdomName': 'Animalia', 'KingdomCommonName': 'animals', 'ClassName': 'Actinopterygii', 'ClassCommonName': 'ray-finned fishes', 'FamilyName': 'Loricariidae', 'FamilyCommonName': 'suckermouth catfishes', 'FamilyRank': '950210', 'SpeciesUrl': 'http://apps.des.qld.gov.au/species/?op=getspecies&family=loricariidae'}, {'KingdomName': 'Animalia', 'KingdomCommonName': 'animals', 'ClassName': 'Actinopterygii', 'ClassCommonName': 'ray-finned fishes', 'FamilyName': 'Lutjanidae', 'FamilyCommonName': 'snappers', 'FamilyRank': '950684', 'SpeciesUrl': 'http://apps.des.qld.gov.au/species/?op=getspecies&family=lutjanidae'}, {'KingdomName': 'Animalia', 'KingdomCommonName': 'animals', 'ClassName': 'Actinopterygii', 'ClassCommonName': 'ray-finned fishes', 'FamilyName': 'Mastacembelidae', 'FamilyCommonName': 'spiny eels', 'FamilyRank': '950518', 'SpeciesUrl': 'http://apps.des.qld.gov.au/species/?op=getspecies&family=mastacembelidae'}, {'KingdomName': 'Animalia', 'KingdomCommonName': 'animals', 'ClassName': 'Actinopterygii', 'ClassCommonName': 'ray-finned fishes', 'FamilyName': 'Megalopidae', 'FamilyCommonName': 'tarpon', 'FamilyRank': '950026', 'SpeciesUrl': 'http://apps.des.qld.gov.au/species/?op=getspecies&family=megalopidae'}, {'KingdomName': 'Animalia', 'KingdomCommonName': 'animals', 'ClassName': 'Actinopterygii', 'ClassCommonName': 'ray-finned fishes', 'FamilyName': 'Melanotaeniidae', 'FamilyCommonName': 'rainbowfishes', 'FamilyRank': '950402', 'SpeciesUrl': 'http://apps.des.qld.gov.au/species/?op=getspecies&family=melanotaeniidae'}, {'KingdomName': 'Animalia', 'KingdomCommonName': 'animals', 'ClassName': 'Actinopterygii', 'ClassCommonName': 'ray-finned fishes', 'FamilyName': 'Mochokidae', 'FamilyCommonName': 'squeakers, upside-down catfishes', 'FamilyRank': '950186', 'SpeciesUrl': 'http://apps.des.qld.gov.au/species/?op=getspecies&family=mochokidae'}, {'KingdomName': 'Animalia', 'KingdomCommonName': 'animals', 'ClassName': 'Actinopterygii', 'ClassCommonName': 'ray-finned fishes', 'FamilyName': 'Monodactylidae', 'FamilyCommonName': 'monos', 'FamilyRank': '950732', 'SpeciesUrl': 'http://apps.des.qld.gov.au/species/?op=getspecies&family=monodactylidae'}, {'KingdomName': 'Animalia', 'KingdomCommonName': 'animals', 'ClassName': 'Actinopterygii', 'ClassCommonName': 'ray-finned fishes', 'FamilyName': 'Mormyridae', 'FamilyCommonName': 'elephantfishes', 'FamilyRank': '950020', 'SpeciesUrl': 'http://apps.des.qld.gov.au/species/?op=getspecies&family=mormyridae'}, {'KingdomName': 'Animalia', 'KingdomCommonName': 'animals', 'ClassName': 'Actinopterygii', 'ClassCommonName': 'ray-finned fishes', 'FamilyName': 'Mugilidae', 'FamilyCommonName': 'mullets', 'FamilyRank': '950762', 'SpeciesUrl': 'http://apps.des.qld.gov.au/species/?op=getspecies&family=mugilidae'}, {'KingdomName': 'Animalia', 'KingdomCommonName': 'animals', 'ClassName': 'Actinopterygii', 'ClassCommonName': 'ray-finned fishes', 'FamilyName': 'Muraenidae', 'FamilyCommonName': 'moray eels', 'FamilyRank': '950044', 'SpeciesUrl': 'http://apps.des.qld.gov.au/species/?op=getspecies&family=muraenidae'}, {'KingdomName': 'Animalia', 'KingdomCommonName': 'animals', 'ClassName': 'Actinopterygii', 'ClassCommonName': 'ray-finned fishes', 'FamilyName': 'Osphronemidae', 'FamilyCommonName': 'gouramies', 'FamilyRank': '950912', 'SpeciesUrl': 'http://apps.des.qld.gov.au/species/?op=getspecies&family=osphronemidae'}, {'KingdomName': 'Animalia', 'KingdomCommonName': 'animals', 'ClassName': 'Actinopterygii', 'ClassCommonName': 'ray-finned fishes', 'FamilyName': 'Osteoglossidae', 'FamilyCommonName': 'bony-tongues', 'FamilyRank': '950010', 'SpeciesUrl': 'http://apps.des.qld.gov.au/species/?op=getspecies&family=osteoglossidae'}, {'KingdomName': 'Animalia', 'KingdomCommonName': 'animals', 'ClassName': 'Actinopterygii', 'ClassCommonName': 'ray-finned fishes', 'FamilyName': 'Pantodontidae', 'FamilyCommonName': 'freshwater butterflyfish', 'FamilyRank': '950014', 'SpeciesUrl': 'http://apps.des.qld.gov.au/species/?op=getspecies&family=pantodontidae'}, {'KingdomName': 'Animalia', 'KingdomCommonName': 'animals', 'ClassName': 'Actinopterygii', 'ClassCommonName': 'ray-finned fishes', 'FamilyName': 'Percichthyidae', 'FamilyCommonName': 'basses and cods', 'FamilyRank': '950598', 'SpeciesUrl': 'http://apps.des.qld.gov.au/species/?op=getspecies&family=percichthyidae'}, {'KingdomName': 'Animalia', 'KingdomCommonName': 'animals', 'ClassName': 'Actinopterygii', 'ClassCommonName': 'ray-finned fishes', 'FamilyName': 'Pimelodidae', 'FamilyCommonName': 'long-whiskered catfishes', 'FamilyRank': '950192', 'SpeciesUrl': 'http://apps.des.qld.gov.au/species/?op=getspecies&family=pimelodidae'}, {'KingdomName': 'Animalia', 'KingdomCommonName': 'animals', 'ClassName': 'Actinopterygii', 'ClassCommonName': 'ray-finned fishes', 'FamilyName': 'Plotosidae', 'FamilyCommonName': 'eel-tailed catfishes', 'FamilyRank': '950184', 'SpeciesUrl': 'http://apps.des.qld.gov.au/species/?op=getspecies&family=plotosidae'}, {'KingdomName': 'Animalia', 'KingdomCommonName': 'animals', 'ClassName': 'Actinopterygii', 'ClassCommonName': 'ray-finned fishes', 'FamilyName': 'Poeciliidae', 'FamilyCommonName': 'livebearers', 'FamilyRank': '950434', 'SpeciesUrl': 'http://apps.des.qld.gov.au/species/?op=getspecies&family=poeciliidae'}, {'KingdomName': 'Animalia', 'KingdomCommonName': 'animals', 'ClassName': 'Actinopterygii', 'ClassCommonName': 'ray-finned fishes', 'FamilyName': 'Pomacanthidae', 'FamilyCommonName': 'anglefishes', 'FamilyRank': '950736', 'SpeciesUrl': 'http://apps.des.qld.gov.au/species/?op=getspecies&family=pomacanthidae'}, {'KingdomName': 'Animalia', 'KingdomCommonName': 'animals', 'ClassName': 'Actinopterygii', 'ClassCommonName': 'ray-finned fishes', 'FamilyName': 'Pomacentridae', 'FamilyCommonName': 'damselfishes', 'FamilyRank': '950768', 'SpeciesUrl': 'http://apps.des.qld.gov.au/species/?op=getspecies&family=pomacentridae'}, {'KingdomName': 'Animalia', 'KingdomCommonName': 'animals', 'ClassName': 'Actinopterygii', 'ClassCommonName': 'ray-finned fishes', 'FamilyName': 'Pseudochromidae', 'FamilyCommonName': 'dottybacks', 'FamilyRank': '950624', 'SpeciesUrl': 'http://apps.des.qld.gov.au/species/?op=getspecies&family=pseudochromidae'}, {'KingdomName': 'Animalia', 'KingdomCommonName': 'animals', 'ClassName': 'Actinopterygii', 'ClassCommonName': 'ray-finned fishes', 'FamilyName': 'Pseudomugilidae', 'FamilyCommonName': 'blue-eyes', 'FamilyRank': '950404', 'SpeciesUrl': 'http://apps.des.qld.gov.au/species/?op=getspecies&family=pseudomugilidae'}, {'KingdomName': 'Animalia', 'KingdomCommonName': 'animals', 'ClassName': 'Actinopterygii', 'ClassCommonName': 'ray-finned fishes', 'FamilyName': 'Retropinnidae', 'FamilyCommonName': 'smelts', 'FamilyRank': '950252', 'SpeciesUrl': 'http://apps.des.qld.gov.au/species/?op=getspecies&family=retropinnidae'}, {'KingdomName': 'Animalia', 'KingdomCommonName': 'animals', 'ClassName': 'Actinopterygii', 'ClassCommonName': 'ray-finned fishes', 'FamilyName': 'Salmonidae', 'FamilyCommonName': 'trout', 'FamilyRank': '950256', 'SpeciesUrl': 'http://apps.des.qld.gov.au/species/?op=getspecies&family=salmonidae'}, {'KingdomName': 'Animalia', 'KingdomCommonName': 'animals', 'ClassName': 'Actinopterygii', 'ClassCommonName': 'ray-finned fishes', 'FamilyName': 'Scaridae', 'FamilyCommonName': 'parrotfishes', 'FamilyRank': '950774', 'SpeciesUrl': 'http://apps.des.qld.gov.au/species/?op=getspecies&family=scaridae'}, {'KingdomName': 'Animalia', 'KingdomCommonName': 'animals', 'ClassName': 'Actinopterygii', 'ClassCommonName': 'ray-finned fishes', 'FamilyName': 'Scatophagidae', 'FamilyCommonName': 'scats', 'FamilyRank': '950874', 'SpeciesUrl': 'http://apps.des.qld.gov.au/species/?op=getspecies&family=scatophagidae'}, {'KingdomName': 'Animalia', 'KingdomCommonName': 'animals', 'ClassName': 'Actinopterygii', 'ClassCommonName': 'ray-finned fishes', 'FamilyName': 'Sciaenidae', 'FamilyCommonName': 'croakers', 'FamilyRank': '950708', 'SpeciesUrl': 'http://apps.des.qld.gov.au/species/?op=getspecies&family=sciaenidae'}, {'KingdomName': 'Animalia', 'KingdomCommonName': 'animals', 'ClassName': 'Actinopterygii', 'ClassCommonName': 'ray-finned fishes', 'FamilyName': 'Scorpaenidae', 'FamilyCommonName': 'scorpionfishes', 'FamilyRank': '950528', 'SpeciesUrl': 'http://apps.des.qld.gov.au/species/?op=getspecies&family=scorpaenidae'}, {'KingdomName': 'Animalia', 'KingdomCommonName': 'animals', 'ClassName': 'Actinopterygii', 'ClassCommonName': 'ray-finned fishes', 'FamilyName': 'Serranidae', 'FamilyCommonName': 'rockcods', 'FamilyRank': '950616', 'SpeciesUrl': 'http://apps.des.qld.gov.au/species/?op=getspecies&family=serranidae'}, {'KingdomName': 'Animalia', 'KingdomCommonName': 'animals', 'ClassName': 'Actinopterygii', 'ClassCommonName': 'ray-finned fishes', 'FamilyName': 'Sillaginidae', 'FamilyCommonName': 'smelt-whitings', 'FamilyRank': '950652', 'SpeciesUrl': 'http://apps.des.qld.gov.au/species/?op=getspecies&family=sillaginidae'}, {'KingdomName': 'Animalia', 'KingdomCommonName': 'animals', 'ClassName': 'Actinopterygii', 'ClassCommonName': 'ray-finned fishes', 'FamilyName': 'Siluridae', 'FamilyCommonName': 'sheatfishes', 'FamilyRank': '950152', 'SpeciesUrl': 'http://apps.des.qld.gov.au/species/?op=getspecies&family=siluridae'}, {'KingdomName': 'Animalia', 'KingdomCommonName': 'animals', 'ClassName': 'Actinopterygii', 'ClassCommonName': 'ray-finned fishes', 'FamilyName': 'Soleidae', 'FamilyCommonName': 'soles', 'FamilyRank': '950938', 'SpeciesUrl': 'http://apps.des.qld.gov.au/species/?op=getspecies&family=soleidae'}, {'KingdomName': 'Animalia', 'KingdomCommonName': 'animals', 'ClassName': 'Actinopterygii', 'ClassCommonName': 'ray-finned fishes', 'FamilyName': 'Sparidae', 'FamilyCommonName': 'porgies', 'FamilyRank': '950700', 'SpeciesUrl': 'http://apps.des.qld.gov.au/species/?op=getspecies&family=sparidae'}, {'KingdomName': 'Animalia', 'KingdomCommonName': 'animals', 'ClassName': 'Actinopterygii', 'ClassCommonName': 'ray-finned fishes', 'FamilyName': 'Synbranchidae', 'FamilyCommonName': 'swamp eels', 'FamilyRank': '950516', 'SpeciesUrl': 'http://apps.des.qld.gov.au/species/?op=getspecies&family=synbranchidae'}, {'KingdomName': 'Animalia', 'KingdomCommonName': 'animals', 'ClassName': 'Actinopterygii', 'ClassCommonName': 'ray-finned fishes', 'FamilyName': 'Syngnathidae', 'FamilyCommonName': 'pipefishes and seahorses', 'FamilyRank': '950514', 'SpeciesUrl': 'http://apps.des.qld.gov.au/species/?op=getspecies&family=syngnathidae'}, {'KingdomName': 'Animalia', 'KingdomCommonName': 'animals', 'ClassName': 'Actinopterygii', 'ClassCommonName': 'ray-finned fishes', 'FamilyName': 'Telmatherinidae', 'FamilyCommonName': 'sailfin silversides or celebes', 'FamilyRank': '950414', 'SpeciesUrl': 'http://apps.des.qld.gov.au/species/?op=getspecies&family=telmatherinidae'}, {'KingdomName': 'Animalia', 'KingdomCommonName': 'animals', 'ClassName': 'Actinopterygii', 'ClassCommonName': 'ray-finned fishes', 'FamilyName': 'Terapontidae', 'FamilyCommonName': 'grunters', 'FamilyRank': '950634', 'SpeciesUrl': 'http://apps.des.qld.gov.au/species/?op=getspecies&family=terapontidae'}, {'KingdomName': 'Animalia', 'KingdomCommonName': 'animals', 'ClassName': 'Actinopterygii', 'ClassCommonName': 'ray-finned fishes', 'FamilyName': 'Tetraodontidae', 'FamilyCommonName': 'puffers', 'FamilyRank': '950956', 'SpeciesUrl': 'http://apps.des.qld.gov.au/species/?op=getspecies&family=tetraodontidae'}, {'KingdomName': 'Animalia', 'KingdomCommonName': 'animals', 'ClassName': 'Actinopterygii', 'ClassCommonName': 'ray-finned fishes', 'FamilyName': 'Toxotidae', 'FamilyCommonName': 'archerfishes', 'FamilyRank': '950722', 'SpeciesUrl': 'http://apps.des.qld.gov.au/species/?op=getspecies&family=toxotidae'}]\n"
     ]
    }
   ],
   "source": [
    "import requests as req\n",
    "import json\n",
    "\n",
    "res = req.get(\"https://apps.des.qld.gov.au/species/?op=getfamilynames&kingdom=animals&class=actinopterygii\")\n",
    "data = json.loads(res.text)\n",
    "with open(\"data.json\", \"w\") as file:\n",
    "    json.dump(data[\"Family\"], file)\n",
    "\n",
    "print(data[\"Family\"])"
   ]
  },
  {
   "cell_type": "code",
   "execution_count": 123,
   "metadata": {},
   "outputs": [
    {
     "name": "stdout",
     "output_type": "stream",
     "text": [
      "root\n",
      " |-- ClassCommonName: string (nullable = true)\n",
      " |-- ClassName: string (nullable = true)\n",
      " |-- FamilyCommonName: string (nullable = true)\n",
      " |-- FamilyName: string (nullable = true)\n",
      " |-- FamilyRank: string (nullable = true)\n",
      " |-- KingdomCommonName: string (nullable = true)\n",
      " |-- KingdomName: string (nullable = true)\n",
      " |-- SpeciesUrl: string (nullable = true)\n",
      "\n",
      "+-----------------+--------------+--------------------+------------------+----------+-----------------+-----------+--------------------+\n",
      "|  ClassCommonName|     ClassName|    FamilyCommonName|        FamilyName|FamilyRank|KingdomCommonName|KingdomName|          SpeciesUrl|\n",
      "+-----------------+--------------+--------------------+------------------+----------+-----------------+-----------+--------------------+\n",
      "|ray-finned fishes|Actinopterygii|       surgeonfishes|      Acanthuridae|    950882|          animals|   Animalia|http://apps.des.q...|\n",
      "|ray-finned fishes|Actinopterygii|     adrianichthyids|  Adrianichthyidae|    950448|          animals|   Animalia|http://apps.des.q...|\n",
      "|ray-finned fishes|Actinopterygii|      African tetras|         Alestidae|    950108|          animals|   Animalia|http://apps.des.q...|\n",
      "|ray-finned fishes|Actinopterygii|         glassfishes|        Ambassidae|    950596|          animals|   Animalia|http://apps.des.q...|\n",
      "|ray-finned fishes|Actinopterygii|  climbing gouramies|       Anabantidae|    950910|          animals|   Animalia|http://apps.des.q...|\n",
      "|ray-finned fishes|Actinopterygii|                eels|       Anguillidae|    950034|          animals|   Animalia|http://apps.des.q...|\n",
      "|ray-finned fishes|Actinopterygii|          anostomids|       Anostomidae|    950120|          animals|   Animalia|http://apps.des.q...|\n",
      "|ray-finned fishes|Actinopterygii|        anglerfishes|     Antennariidae|    950362|          animals|   Animalia|http://apps.des.q...|\n",
      "|ray-finned fishes|Actinopterygii|           rivulines|     Aplocheilidae|    950420|          animals|   Animalia|http://apps.des.q...|\n",
      "|ray-finned fishes|Actinopterygii|freshwater cardin...|        Apogonidae|    950646|          animals|   Animalia|http://apps.des.q...|\n",
      "|ray-finned fishes|Actinopterygii|   ghost knifefishes|     Apteronotidae|    950218|          animals|   Animalia|http://apps.des.q...|\n",
      "|ray-finned fishes|Actinopterygii|fork-tailed catfi...|           Ariidae|    950180|          animals|   Animalia|http://apps.des.q...|\n",
      "|ray-finned fishes|Actinopterygii|          hardyheads|       Atherinidae|    950406|          animals|   Animalia|http://apps.des.q...|\n",
      "|ray-finned fishes|Actinopterygii|       river loaches|       Balitoridae|    950098|          animals|   Animalia|http://apps.des.q...|\n",
      "|ray-finned fishes|Actinopterygii|        needlefishes|         Belonidae|    950442|          animals|   Animalia|http://apps.des.q...|\n",
      "|ray-finned fishes|Actinopterygii|          handfishes|Brachionichthyidae|    950368|          animals|   Animalia|http://apps.des.q...|\n",
      "|ray-finned fishes|Actinopterygii|callichthyid armo...|    Callichthyidae|    950208|          animals|   Animalia|http://apps.des.q...|\n",
      "|ray-finned fishes|Actinopterygii|          trevallies|        Carangidae|    950666|          animals|   Animalia|http://apps.des.q...|\n",
      "|ray-finned fishes|Actinopterygii|       giant perches|     Centropomidae|    950594|          animals|   Animalia|http://apps.des.q...|\n",
      "|ray-finned fishes|Actinopterygii|          milkfishes|          Chanidae|    950084|          animals|   Animalia|http://apps.des.q...|\n",
      "+-----------------+--------------+--------------------+------------------+----------+-----------------+-----------+--------------------+\n",
      "only showing top 20 rows\n",
      "\n"
     ]
    },
    {
     "data": {
      "text/plain": [
       "80"
      ]
     },
     "execution_count": 123,
     "metadata": {},
     "output_type": "execute_result"
    }
   ],
   "source": [
    "df = spark.read.json(\"data.json\")\n",
    "df.printSchema()\n",
    "df.show()\n",
    "df.count()"
   ]
  },
  {
   "cell_type": "code",
   "execution_count": 122,
   "metadata": {},
   "outputs": [
    {
     "data": {
      "text/plain": [
       "80"
      ]
     },
     "execution_count": 122,
     "metadata": {},
     "output_type": "execute_result"
    }
   ],
   "source": [
    "fish = df.filter(df.ClassName == \"Actinopterygii\")\n",
    "fish.count()"
   ]
  }
 ],
 "metadata": {
  "kernelspec": {
   "display_name": "Python 3",
   "language": "python",
   "name": "python3"
  },
  "language_info": {
   "codemirror_mode": {
    "name": "ipython",
    "version": 3
   },
   "file_extension": ".py",
   "mimetype": "text/x-python",
   "name": "python",
   "nbconvert_exporter": "python",
   "pygments_lexer": "ipython3",
   "version": "3.12.7"
  }
 },
 "nbformat": 4,
 "nbformat_minor": 2
}
